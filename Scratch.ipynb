{
  "nbformat": 4,
  "nbformat_minor": 0,
  "metadata": {
    "colab": {
      "name": "Scratch.ipynb",
      "provenance": [],
      "toc_visible": true,
      "authorship_tag": "ABX9TyMeP8b7CUR9frZLqy7x0upy",
      "include_colab_link": true
    },
    "kernelspec": {
      "name": "python3",
      "display_name": "Python 3"
    }
  },
  "cells": [
    {
      "cell_type": "markdown",
      "metadata": {
        "id": "view-in-github",
        "colab_type": "text"
      },
      "source": [
        "<a href=\"https://colab.research.google.com/github/DonnaVakalis/Livability/blob/master/Scratch.ipynb\" target=\"_parent\"><img src=\"https://colab.research.google.com/assets/colab-badge.svg\" alt=\"Open In Colab\"/></a>"
      ]
    },
    {
      "cell_type": "markdown",
      "metadata": {
        "id": "op5oeKvo04C0",
        "colab_type": "text"
      },
      "source": [
        "# Minimum Wage in the U.S.A.\n",
        "---\n",
        "\n",
        "More notes here later...\n"
      ]
    },
    {
      "cell_type": "markdown",
      "metadata": {
        "id": "3JmGh38EzKe_",
        "colab_type": "text"
      },
      "source": [
        "## Setup\n",
        "\n"
      ]
    },
    {
      "cell_type": "markdown",
      "metadata": {
        "id": "0tAYDFDUz3MF",
        "colab_type": "text"
      },
      "source": [
        "### Import Libraries\n"
      ]
    },
    {
      "cell_type": "code",
      "metadata": {
        "id": "ElxUWo2-z2xN",
        "colab_type": "code",
        "colab": {}
      },
      "source": [
        "# Imports and global options\n",
        "\n",
        "import pandas as pd\n",
        "from matplotlib import pyplot as plt\n",
        "import zipfile\n",
        "\n",
        "import plotly.express as px \n",
        "\n",
        "# display numbers with two decimal places\n",
        "pd.options.display.float_format = '{:,.2f}'.format\n"
      ],
      "execution_count": 11,
      "outputs": []
    },
    {
      "cell_type": "markdown",
      "metadata": {
        "id": "NEI3adNd0lP_",
        "colab_type": "text"
      },
      "source": [
        "### Import Data"
      ]
    },
    {
      "cell_type": "code",
      "metadata": {
        "id": "RsMJlvIO0oZM",
        "colab_type": "code",
        "colab": {}
      },
      "source": [
        "# import min wage data \n",
        "df_min=pd.read_csv(\"https://danieljwilson.com/datasets/min_wage/min_wage_usa_2020.csv\", encoding= 'ISO-8859-1')\n",
        "\n",
        "# import state codes\n",
        "df_codes=pd.read_csv(\"https://danieljwilson.com/datasets/min_wage/USPS_two_letter_state.csv\", encoding= 'unicode_escape')"
      ],
      "execution_count": 15,
      "outputs": []
    },
    {
      "cell_type": "code",
      "metadata": {
        "id": "k69a_1dK0rA-",
        "colab_type": "code",
        "colab": {
          "base_uri": "https://localhost:8080/",
          "height": 204
        },
        "outputId": "092e71e1-facf-423b-cb41-ead5eeb64904"
      },
      "source": [
        "df_min.info()"
      ],
      "execution_count": 16,
      "outputs": [
        {
          "output_type": "stream",
          "text": [
            "<class 'pandas.core.frame.DataFrame'>\n",
            "RangeIndex: 51 entries, 0 to 50\n",
            "Data columns (total 4 columns):\n",
            " #   Column  Non-Null Count  Dtype  \n",
            "---  ------  --------------  -----  \n",
            " 0   State   51 non-null     object \n",
            " 1   Wage    51 non-null     float64\n",
            " 2   lw_10   51 non-null     float64\n",
            " 3   lw_22   51 non-null     float64\n",
            "dtypes: float64(3), object(1)\n",
            "memory usage: 1.7+ KB\n"
          ],
          "name": "stdout"
        }
      ]
    },
    {
      "cell_type": "code",
      "metadata": {
        "id": "2LX5d1JF4Z0Q",
        "colab_type": "code",
        "colab": {
          "base_uri": "https://localhost:8080/",
          "height": 170
        },
        "outputId": "bfefc6e9-6d86-4e77-f1ad-2da5954d7bed"
      },
      "source": [
        "df_codes.info()"
      ],
      "execution_count": 17,
      "outputs": [
        {
          "output_type": "stream",
          "text": [
            "<class 'pandas.core.frame.DataFrame'>\n",
            "RangeIndex: 59 entries, 0 to 58\n",
            "Data columns (total 2 columns):\n",
            " #   Column        Non-Null Count  Dtype \n",
            "---  ------        --------------  ----- \n",
            " 0   State         59 non-null     object\n",
            " 1   Abbreviation  59 non-null     object\n",
            "dtypes: object(2)\n",
            "memory usage: 1.0+ KB\n"
          ],
          "name": "stdout"
        }
      ]
    },
    {
      "cell_type": "markdown",
      "metadata": {
        "id": "RIcDtC_Y0WQB",
        "colab_type": "text"
      },
      "source": [
        "### Clean/Tidy Data"
      ]
    },
    {
      "cell_type": "code",
      "metadata": {
        "id": "zeOQxToJ0cJS",
        "colab_type": "code",
        "colab": {}
      },
      "source": [
        ""
      ],
      "execution_count": null,
      "outputs": []
    },
    {
      "cell_type": "markdown",
      "metadata": {
        "id": "KUTyzOrbzPfK",
        "colab_type": "text"
      },
      "source": [
        "## Exploration 1\n"
      ]
    },
    {
      "cell_type": "code",
      "metadata": {
        "id": "SK_lm0n10Qrg",
        "colab_type": "code",
        "colab": {}
      },
      "source": [
        ""
      ],
      "execution_count": null,
      "outputs": []
    },
    {
      "cell_type": "markdown",
      "metadata": {
        "id": "gRI1sF7DzYKu",
        "colab_type": "text"
      },
      "source": [
        "## Exploration 2:"
      ]
    },
    {
      "cell_type": "code",
      "metadata": {
        "id": "1WjmfYMy0RLP",
        "colab_type": "code",
        "colab": {}
      },
      "source": [
        ""
      ],
      "execution_count": null,
      "outputs": []
    }
  ]
}