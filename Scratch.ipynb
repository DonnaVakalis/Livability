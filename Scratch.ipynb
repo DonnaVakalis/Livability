{
  "nbformat": 4,
  "nbformat_minor": 0,
  "metadata": {
    "colab": {
      "name": "Scratch.ipynb",
      "provenance": [],
      "toc_visible": true,
      "authorship_tag": "ABX9TyMi+cN1PTyqHT+hit4D2Hau",
      "include_colab_link": true
    },
    "kernelspec": {
      "name": "python3",
      "display_name": "Python 3"
    }
  },
  "cells": [
    {
      "cell_type": "markdown",
      "metadata": {
        "id": "view-in-github",
        "colab_type": "text"
      },
      "source": [
        "<a href=\"https://colab.research.google.com/github/DonnaVakalis/Livability/blob/master/Scratch.ipynb\" target=\"_parent\"><img src=\"https://colab.research.google.com/assets/colab-badge.svg\" alt=\"Open In Colab\"/></a>"
      ]
    },
    {
      "cell_type": "markdown",
      "metadata": {
        "id": "op5oeKvo04C0",
        "colab_type": "text"
      },
      "source": [
        "# Minimum Wage Exploration\n",
        "\n",
        "---\n",
        "\n",
        "More notes here later...\n"
      ]
    },
    {
      "cell_type": "markdown",
      "metadata": {
        "id": "3JmGh38EzKe_",
        "colab_type": "text"
      },
      "source": [
        "## Setup\n",
        "\n"
      ]
    },
    {
      "cell_type": "markdown",
      "metadata": {
        "id": "0tAYDFDUz3MF",
        "colab_type": "text"
      },
      "source": [
        "### Import Libraries\n"
      ]
    },
    {
      "cell_type": "code",
      "metadata": {
        "id": "ElxUWo2-z2xN",
        "colab_type": "code",
        "colab": {
          "base_uri": "https://localhost:8080/",
          "height": 212
        },
        "outputId": "95b98707-2405-4572-94ca-df7d0ec0316a"
      },
      "source": [
        "# Install pycountry\n",
        "!pip install pycountry\n",
        "\n",
        "# Imports and global options\n",
        "\n",
        "import pandas as pd\n",
        "from pandas import DataFrame\n",
        "from matplotlib import pyplot as plt\n",
        "import zipfile\n",
        "import os\n",
        "from google.colab import drive\n",
        "import requests\n",
        "from bs4 import BeautifulSoup as bs\n",
        "import pycountry\n",
        "\n",
        "import plotly.express as px \n",
        "\n",
        "# display numbers with two decimal places\n",
        "pd.options.display.float_format = '{:,.2f}'.format\n",
        "\n",
        "# mount google drive\n",
        "drive.mount('/content/gdrive/') \n",
        "# check !ls \"/content/gdrive/My Drive/Colab Notebooks/min_wage\""
      ],
      "execution_count": 29,
      "outputs": [
        {
          "output_type": "stream",
          "text": [
            "Collecting pycountry\n",
            "\u001b[?25l  Downloading https://files.pythonhosted.org/packages/76/73/6f1a412f14f68c273feea29a6ea9b9f1e268177d32e0e69ad6790d306312/pycountry-20.7.3.tar.gz (10.1MB)\n",
            "\u001b[K     |████████████████████████████████| 10.1MB 6.8MB/s \n",
            "\u001b[?25hBuilding wheels for collected packages: pycountry\n",
            "  Building wheel for pycountry (setup.py) ... \u001b[?25l\u001b[?25hdone\n",
            "  Created wheel for pycountry: filename=pycountry-20.7.3-py2.py3-none-any.whl size=10746863 sha256=42cb93ddca0fd54b98b61d1dcc295ad587329e8e27fb09170c810665ff395854\n",
            "  Stored in directory: /root/.cache/pip/wheels/33/4e/a6/be297e6b83567e537bed9df4a93f8590ec01c1acfbcd405348\n",
            "Successfully built pycountry\n",
            "Installing collected packages: pycountry\n",
            "Successfully installed pycountry-20.7.3\n",
            "Drive already mounted at /content/gdrive/; to attempt to forcibly remount, call drive.mount(\"/content/gdrive/\", force_remount=True).\n"
          ],
          "name": "stdout"
        }
      ]
    },
    {
      "cell_type": "markdown",
      "metadata": {
        "id": "NEI3adNd0lP_",
        "colab_type": "text"
      },
      "source": [
        "### Import Data\n",
        "\n",
        "Data provenance: \n",
        "* Cleaned Min Wage Data [here](https://www.numbeo.com/property-investment/rankings_by_country.jsp?title=2020&displayColumn=6)\n",
        "* Further wrangling performed by DJW [here](https://danieljwilson.com/datasets/)\n",
        "* Includes addition by [DJW](https://danieljwilson.com) of Living Wage data [here](https://livingwage.mit.edu/)\n",
        "* Election data from [MIT Election Lab](https://electionlab.mit.edu/data)"
      ]
    },
    {
      "cell_type": "code",
      "metadata": {
        "id": "RsMJlvIO0oZM",
        "colab_type": "code",
        "colab": {}
      },
      "source": [
        "# import min wage data \n",
        "df_min=pd.read_csv(\"https://danieljwilson.com/datasets/min_wage/min_wage_usa_2020.csv\", encoding= 'ISO-8859-1')\n",
        "\n",
        "# import state codes\n",
        "df_codes=pd.read_csv(\"https://danieljwilson.com/datasets/min_wage/USPS_two_letter_state.csv\", encoding= 'unicode_escape')\n",
        "\n",
        "# import election data\n",
        "df_pol = pd.read_csv('/content/gdrive/My Drive/Colab Notebooks/min_wage/1976-2016-president.csv')"
      ],
      "execution_count": null,
      "outputs": []
    },
    {
      "cell_type": "code",
      "metadata": {
        "id": "k69a_1dK0rA-",
        "colab_type": "code",
        "colab": {}
      },
      "source": [
        "# scrape some data\n",
        "url = \"https://en.wikipedia.org/wiki/List_of_minimum_wages_by_country\"\n",
        "html = requests.get(url).text\n",
        "soup = bs(html, 'html.parser')\n",
        "ta=soup.find_all('table',{'class':'wikitable'})\n",
        "\n",
        "for tn, table in enumerate(ta):\n",
        "\n",
        "    # preinit list of lists\n",
        "    rows = table.findAll(\"tr\")\n",
        "    row_lengths = [len(r.findAll(['th', 'td'])) for r in rows]\n",
        "    ncols = max(row_lengths)\n",
        "    nrows = len(rows)\n",
        "    data = []\n",
        "    for i in range(nrows):\n",
        "        rowD = []\n",
        "        for j in range(ncols):\n",
        "            rowD.append('')\n",
        "        data.append(rowD)\n",
        "\n",
        "    # process html\n",
        "    for i in range(len(rows)):\n",
        "        row = rows[i]\n",
        "        rowD = []\n",
        "        cells = row.findAll([\"td\", \"th\"])\n",
        "        for j in range(len(cells)):\n",
        "            cell = cells[j]\n",
        "\n",
        "            #lots of cells span cols and rows so lets deal with that\n",
        "            cspan = int(cell.get('colspan', 1))\n",
        "            rspan = int(cell.get('rowspan', 1))\n",
        "            l = 0\n",
        "            for k in range(rspan):\n",
        "                # Shifts to the first empty cell of this row\n",
        "                while data[i + k][j + l]:\n",
        "                    l += 1\n",
        "                for m in range(cspan):\n",
        "                    cell_n = j + l + m\n",
        "                    row_n = i + k\n",
        "                    # in some cases the colspan can overflow the table, in those cases just get the last item\n",
        "                    cell_n = min(cell_n, len(data[row_n])-1)\n",
        "                    data[row_n][cell_n] += cell.text\n",
        "                    print(cell.text)\n",
        "\n",
        "        data.append(rowD)\n",
        "\n",
        "df = DataFrame(data,columns=['country_name','notes','annual_USD','annual_GKD','work_hrs_per_wk','per_hour_USD','per_hour_GKD','minwage_as_prct_GDP_percapita','data_year'])\n",
        "df = df.iloc[2:] # take off header rows\n",
        "df = df.replace(to_replace= r'\\n', value= '', regex=True) # remove backslashes\n",
        "df_mw = df.copy()"
      ],
      "execution_count": null,
      "outputs": []
    },
    {
      "cell_type": "code",
      "metadata": {
        "id": "ORpzFZwyAOsk",
        "colab_type": "code",
        "colab": {
          "base_uri": "https://localhost:8080/",
          "height": 244
        },
        "outputId": "7c2fc0d3-daf9-4eab-ab7c-11c46f06ad22"
      },
      "source": [
        "# take out NAs and percentage signs\n",
        "df_mw  = df_mw .dropna()\n",
        "df_mw.minwage_as_prct_GDP_percapita  = [[i.replace('%', '') for i in j] for j in df_mw.minwage_as_prct_GDP_percapita]\n",
        "df_mw.head()"
      ],
      "execution_count": 71,
      "outputs": [
        {
          "output_type": "execute_result",
          "data": {
            "text/html": [
              "<div>\n",
              "<style scoped>\n",
              "    .dataframe tbody tr th:only-of-type {\n",
              "        vertical-align: middle;\n",
              "    }\n",
              "\n",
              "    .dataframe tbody tr th {\n",
              "        vertical-align: top;\n",
              "    }\n",
              "\n",
              "    .dataframe thead th {\n",
              "        text-align: right;\n",
              "    }\n",
              "</style>\n",
              "<table border=\"1\" class=\"dataframe\">\n",
              "  <thead>\n",
              "    <tr style=\"text-align: right;\">\n",
              "      <th></th>\n",
              "      <th>country_name</th>\n",
              "      <th>notes</th>\n",
              "      <th>annual_USD</th>\n",
              "      <th>annual_GKD</th>\n",
              "      <th>work_hrs_per_wk</th>\n",
              "      <th>per_hour_USD</th>\n",
              "      <th>per_hour_GKD</th>\n",
              "      <th>minwage_as_prct_GDP_percapita</th>\n",
              "      <th>data_year</th>\n",
              "    </tr>\n",
              "  </thead>\n",
              "  <tbody>\n",
              "    <tr>\n",
              "      <th>2</th>\n",
              "      <td>Afghanistan</td>\n",
              "      <td>5,500 Afghani ($67) per month for non-permanen...</td>\n",
              "      <td>1,047</td>\n",
              "      <td>3,272</td>\n",
              "      <td>40</td>\n",
              "      <td>0.5</td>\n",
              "      <td>1.57</td>\n",
              "      <td>[1, 6, 8, ., 3, ]</td>\n",
              "      <td>2017</td>\n",
              "    </tr>\n",
              "    <tr>\n",
              "      <th>3</th>\n",
              "      <td>Albania</td>\n",
              "      <td>26,000 Albanian lekë ($240) per month, in priv...</td>\n",
              "      <td>2,418</td>\n",
              "      <td>5,218</td>\n",
              "      <td>40</td>\n",
              "      <td>1.16</td>\n",
              "      <td>2.51</td>\n",
              "      <td>[4, 5, ., 2, ]</td>\n",
              "      <td>5 May 2017</td>\n",
              "    </tr>\n",
              "    <tr>\n",
              "      <th>4</th>\n",
              "      <td>Algeria</td>\n",
              "      <td>18,000 Algerian dinars ($122.89) per month, na...</td>\n",
              "      <td>1,946</td>\n",
              "      <td>5,622</td>\n",
              "      <td>40</td>\n",
              "      <td>0.94</td>\n",
              "      <td>2.7</td>\n",
              "      <td>[3, 7, ., 4, ]</td>\n",
              "      <td>1 January 2012</td>\n",
              "    </tr>\n",
              "    <tr>\n",
              "      <th>5</th>\n",
              "      <td>Andorra</td>\n",
              "      <td>€1050.40 per month, €6.06 per hour.[14]</td>\n",
              "      <td>14,243</td>\n",
              "      <td>11,020</td>\n",
              "      <td>40</td>\n",
              "      <td>6.85</td>\n",
              "      <td>5.3</td>\n",
              "      <td>[2, 8, ]</td>\n",
              "      <td>1 January 2019</td>\n",
              "    </tr>\n",
              "    <tr>\n",
              "      <th>6</th>\n",
              "      <td>Angola</td>\n",
              "      <td>21,454 kwanza ($58) per month; paid thirteen t...</td>\n",
              "      <td>1,681</td>\n",
              "      <td>2,108</td>\n",
              "      <td>44</td>\n",
              "      <td>0.73</td>\n",
              "      <td>0.92</td>\n",
              "      <td>[3, 2, ., 7, ]</td>\n",
              "      <td>1 April 2019</td>\n",
              "    </tr>\n",
              "  </tbody>\n",
              "</table>\n",
              "</div>"
            ],
            "text/plain": [
              "   country_name  ...       data_year\n",
              "2   Afghanistan  ...            2017\n",
              "3       Albania  ...      5 May 2017\n",
              "4       Algeria  ...  1 January 2012\n",
              "5       Andorra  ...  1 January 2019\n",
              "6        Angola  ...    1 April 2019\n",
              "\n",
              "[5 rows x 9 columns]"
            ]
          },
          "metadata": {
            "tags": []
          },
          "execution_count": 71
        }
      ]
    },
    {
      "cell_type": "code",
      "metadata": {
        "id": "LlOYOKBjF1hm",
        "colab_type": "code",
        "colab": {
          "base_uri": "https://localhost:8080/",
          "height": 124
        },
        "outputId": "6b163006-f2ff-4ca4-ccef-5095f26a0395"
      },
      "source": [
        "#Aside: figure out 3-character country codes...\n",
        "\n",
        "list_countries = df_mw['country_name'].unique().tolist()\n",
        "# print(list_countries) # Uncomment to see list of countries\n",
        "d_country_code = {}  # To hold the country names and their ISO\n",
        "for country in list_countries:\n",
        "    try:\n",
        "        country_data = pycountry.countries.search_fuzzy(country)\n",
        "        # country_data is a list of objects of class pycountry.db.Country\n",
        "        # The first item  ie at index 0 of list is best fit\n",
        "        # object of class Country have an alpha_3 attribute\n",
        "        country_code = country_data[0].alpha_3\n",
        "        d_country_code.update({country: country_code})\n",
        "    except:\n",
        "        print('could not add ISO 3 code for ->', country)\n",
        "        # If could not find country, make ISO code ' '\n",
        "        d_country_code.update({country: ' '})\n",
        "        \n",
        " # create a new column iso_alpha in the df\n",
        "# and fill it with appropriate iso 3 code\n",
        "for k, v in d_country_code.items():\n",
        "    df_mw.loc[(df_mw.country_name == k), 'iso_alpha'] = v     "
      ],
      "execution_count": 72,
      "outputs": [
        {
          "output_type": "stream",
          "text": [
            "could not add ISO 3 code for ->  Cape Verde\n",
            "could not add ISO 3 code for ->  Democratic Republic of the Congo\n",
            "could not add ISO 3 code for ->  North Korea\n",
            "could not add ISO 3 code for ->  South Korea\n",
            "could not add ISO 3 code for ->  Laos\n",
            "could not add ISO 3 code for ->  Northern Cyprus\n"
          ],
          "name": "stdout"
        }
      ]
    },
    {
      "cell_type": "code",
      "metadata": {
        "id": "Chm4MFMj2ugg",
        "colab_type": "code",
        "colab": {
          "base_uri": "https://localhost:8080/",
          "height": 388
        },
        "outputId": "9f503d40-cbf5-4810-9b4e-424f5bb27b63"
      },
      "source": [
        "df = df_mw.copy()\n",
        "df.per_hour_USD = df.per_hour_USD.astype(float)\n",
        "df.info()\n",
        " "
      ],
      "execution_count": 73,
      "outputs": [
        {
          "output_type": "error",
          "ename": "ValueError",
          "evalue": "ignored",
          "traceback": [
            "\u001b[0;31m---------------------------------------------------------------------------\u001b[0m",
            "\u001b[0;31mValueError\u001b[0m                                Traceback (most recent call last)",
            "\u001b[0;32m<ipython-input-73-14b077626706>\u001b[0m in \u001b[0;36m<module>\u001b[0;34m()\u001b[0m\n\u001b[1;32m      1\u001b[0m \u001b[0mdf\u001b[0m \u001b[0;34m=\u001b[0m \u001b[0mdf_mw\u001b[0m\u001b[0;34m.\u001b[0m\u001b[0mcopy\u001b[0m\u001b[0;34m(\u001b[0m\u001b[0;34m)\u001b[0m\u001b[0;34m\u001b[0m\u001b[0;34m\u001b[0m\u001b[0m\n\u001b[1;32m      2\u001b[0m \u001b[0;34m\u001b[0m\u001b[0m\n\u001b[0;32m----> 3\u001b[0;31m \u001b[0mdf\u001b[0m\u001b[0;34m.\u001b[0m\u001b[0mper_hour_USD\u001b[0m \u001b[0;34m=\u001b[0m \u001b[0mdf\u001b[0m\u001b[0;34m.\u001b[0m\u001b[0mper_hour_USD\u001b[0m\u001b[0;34m.\u001b[0m\u001b[0mastype\u001b[0m\u001b[0;34m(\u001b[0m\u001b[0mfloat\u001b[0m\u001b[0;34m)\u001b[0m\u001b[0;34m\u001b[0m\u001b[0;34m\u001b[0m\u001b[0m\n\u001b[0m\u001b[1;32m      4\u001b[0m \u001b[0mdf\u001b[0m\u001b[0;34m.\u001b[0m\u001b[0minfo\u001b[0m\u001b[0;34m(\u001b[0m\u001b[0;34m)\u001b[0m\u001b[0;34m\u001b[0m\u001b[0;34m\u001b[0m\u001b[0m\n\u001b[1;32m      5\u001b[0m \u001b[0;31m#df = df[df['per_hour_USD'] < 25 ]\u001b[0m\u001b[0;34m\u001b[0m\u001b[0;34m\u001b[0m\u001b[0;34m\u001b[0m\u001b[0m\n",
            "\u001b[0;32m/usr/local/lib/python3.6/dist-packages/pandas/core/generic.py\u001b[0m in \u001b[0;36mastype\u001b[0;34m(self, dtype, copy, errors)\u001b[0m\n\u001b[1;32m   5696\u001b[0m         \u001b[0;32melse\u001b[0m\u001b[0;34m:\u001b[0m\u001b[0;34m\u001b[0m\u001b[0;34m\u001b[0m\u001b[0m\n\u001b[1;32m   5697\u001b[0m             \u001b[0;31m# else, only a single dtype is given\u001b[0m\u001b[0;34m\u001b[0m\u001b[0;34m\u001b[0m\u001b[0;34m\u001b[0m\u001b[0m\n\u001b[0;32m-> 5698\u001b[0;31m             \u001b[0mnew_data\u001b[0m \u001b[0;34m=\u001b[0m \u001b[0mself\u001b[0m\u001b[0;34m.\u001b[0m\u001b[0m_data\u001b[0m\u001b[0;34m.\u001b[0m\u001b[0mastype\u001b[0m\u001b[0;34m(\u001b[0m\u001b[0mdtype\u001b[0m\u001b[0;34m=\u001b[0m\u001b[0mdtype\u001b[0m\u001b[0;34m,\u001b[0m \u001b[0mcopy\u001b[0m\u001b[0;34m=\u001b[0m\u001b[0mcopy\u001b[0m\u001b[0;34m,\u001b[0m \u001b[0merrors\u001b[0m\u001b[0;34m=\u001b[0m\u001b[0merrors\u001b[0m\u001b[0;34m)\u001b[0m\u001b[0;34m\u001b[0m\u001b[0;34m\u001b[0m\u001b[0m\n\u001b[0m\u001b[1;32m   5699\u001b[0m             \u001b[0;32mreturn\u001b[0m \u001b[0mself\u001b[0m\u001b[0;34m.\u001b[0m\u001b[0m_constructor\u001b[0m\u001b[0;34m(\u001b[0m\u001b[0mnew_data\u001b[0m\u001b[0;34m)\u001b[0m\u001b[0;34m.\u001b[0m\u001b[0m__finalize__\u001b[0m\u001b[0;34m(\u001b[0m\u001b[0mself\u001b[0m\u001b[0;34m)\u001b[0m\u001b[0;34m\u001b[0m\u001b[0;34m\u001b[0m\u001b[0m\n\u001b[1;32m   5700\u001b[0m \u001b[0;34m\u001b[0m\u001b[0m\n",
            "\u001b[0;32m/usr/local/lib/python3.6/dist-packages/pandas/core/internals/managers.py\u001b[0m in \u001b[0;36mastype\u001b[0;34m(self, dtype, copy, errors)\u001b[0m\n\u001b[1;32m    580\u001b[0m \u001b[0;34m\u001b[0m\u001b[0m\n\u001b[1;32m    581\u001b[0m     \u001b[0;32mdef\u001b[0m \u001b[0mastype\u001b[0m\u001b[0;34m(\u001b[0m\u001b[0mself\u001b[0m\u001b[0;34m,\u001b[0m \u001b[0mdtype\u001b[0m\u001b[0;34m,\u001b[0m \u001b[0mcopy\u001b[0m\u001b[0;34m:\u001b[0m \u001b[0mbool\u001b[0m \u001b[0;34m=\u001b[0m \u001b[0;32mFalse\u001b[0m\u001b[0;34m,\u001b[0m \u001b[0merrors\u001b[0m\u001b[0;34m:\u001b[0m \u001b[0mstr\u001b[0m \u001b[0;34m=\u001b[0m \u001b[0;34m\"raise\"\u001b[0m\u001b[0;34m)\u001b[0m\u001b[0;34m:\u001b[0m\u001b[0;34m\u001b[0m\u001b[0;34m\u001b[0m\u001b[0m\n\u001b[0;32m--> 582\u001b[0;31m         \u001b[0;32mreturn\u001b[0m \u001b[0mself\u001b[0m\u001b[0;34m.\u001b[0m\u001b[0mapply\u001b[0m\u001b[0;34m(\u001b[0m\u001b[0;34m\"astype\"\u001b[0m\u001b[0;34m,\u001b[0m \u001b[0mdtype\u001b[0m\u001b[0;34m=\u001b[0m\u001b[0mdtype\u001b[0m\u001b[0;34m,\u001b[0m \u001b[0mcopy\u001b[0m\u001b[0;34m=\u001b[0m\u001b[0mcopy\u001b[0m\u001b[0;34m,\u001b[0m \u001b[0merrors\u001b[0m\u001b[0;34m=\u001b[0m\u001b[0merrors\u001b[0m\u001b[0;34m)\u001b[0m\u001b[0;34m\u001b[0m\u001b[0;34m\u001b[0m\u001b[0m\n\u001b[0m\u001b[1;32m    583\u001b[0m \u001b[0;34m\u001b[0m\u001b[0m\n\u001b[1;32m    584\u001b[0m     \u001b[0;32mdef\u001b[0m \u001b[0mconvert\u001b[0m\u001b[0;34m(\u001b[0m\u001b[0mself\u001b[0m\u001b[0;34m,\u001b[0m \u001b[0;34m**\u001b[0m\u001b[0mkwargs\u001b[0m\u001b[0;34m)\u001b[0m\u001b[0;34m:\u001b[0m\u001b[0;34m\u001b[0m\u001b[0;34m\u001b[0m\u001b[0m\n",
            "\u001b[0;32m/usr/local/lib/python3.6/dist-packages/pandas/core/internals/managers.py\u001b[0m in \u001b[0;36mapply\u001b[0;34m(self, f, filter, **kwargs)\u001b[0m\n\u001b[1;32m    440\u001b[0m                 \u001b[0mapplied\u001b[0m \u001b[0;34m=\u001b[0m \u001b[0mb\u001b[0m\u001b[0;34m.\u001b[0m\u001b[0mapply\u001b[0m\u001b[0;34m(\u001b[0m\u001b[0mf\u001b[0m\u001b[0;34m,\u001b[0m \u001b[0;34m**\u001b[0m\u001b[0mkwargs\u001b[0m\u001b[0;34m)\u001b[0m\u001b[0;34m\u001b[0m\u001b[0;34m\u001b[0m\u001b[0m\n\u001b[1;32m    441\u001b[0m             \u001b[0;32melse\u001b[0m\u001b[0;34m:\u001b[0m\u001b[0;34m\u001b[0m\u001b[0;34m\u001b[0m\u001b[0m\n\u001b[0;32m--> 442\u001b[0;31m                 \u001b[0mapplied\u001b[0m \u001b[0;34m=\u001b[0m \u001b[0mgetattr\u001b[0m\u001b[0;34m(\u001b[0m\u001b[0mb\u001b[0m\u001b[0;34m,\u001b[0m \u001b[0mf\u001b[0m\u001b[0;34m)\u001b[0m\u001b[0;34m(\u001b[0m\u001b[0;34m**\u001b[0m\u001b[0mkwargs\u001b[0m\u001b[0;34m)\u001b[0m\u001b[0;34m\u001b[0m\u001b[0;34m\u001b[0m\u001b[0m\n\u001b[0m\u001b[1;32m    443\u001b[0m             \u001b[0mresult_blocks\u001b[0m \u001b[0;34m=\u001b[0m \u001b[0m_extend_blocks\u001b[0m\u001b[0;34m(\u001b[0m\u001b[0mapplied\u001b[0m\u001b[0;34m,\u001b[0m \u001b[0mresult_blocks\u001b[0m\u001b[0;34m)\u001b[0m\u001b[0;34m\u001b[0m\u001b[0;34m\u001b[0m\u001b[0m\n\u001b[1;32m    444\u001b[0m \u001b[0;34m\u001b[0m\u001b[0m\n",
            "\u001b[0;32m/usr/local/lib/python3.6/dist-packages/pandas/core/internals/blocks.py\u001b[0m in \u001b[0;36mastype\u001b[0;34m(self, dtype, copy, errors)\u001b[0m\n\u001b[1;32m    623\u001b[0m             \u001b[0mvals1d\u001b[0m \u001b[0;34m=\u001b[0m \u001b[0mvalues\u001b[0m\u001b[0;34m.\u001b[0m\u001b[0mravel\u001b[0m\u001b[0;34m(\u001b[0m\u001b[0;34m)\u001b[0m\u001b[0;34m\u001b[0m\u001b[0;34m\u001b[0m\u001b[0m\n\u001b[1;32m    624\u001b[0m             \u001b[0;32mtry\u001b[0m\u001b[0;34m:\u001b[0m\u001b[0;34m\u001b[0m\u001b[0;34m\u001b[0m\u001b[0m\n\u001b[0;32m--> 625\u001b[0;31m                 \u001b[0mvalues\u001b[0m \u001b[0;34m=\u001b[0m \u001b[0mastype_nansafe\u001b[0m\u001b[0;34m(\u001b[0m\u001b[0mvals1d\u001b[0m\u001b[0;34m,\u001b[0m \u001b[0mdtype\u001b[0m\u001b[0;34m,\u001b[0m \u001b[0mcopy\u001b[0m\u001b[0;34m=\u001b[0m\u001b[0;32mTrue\u001b[0m\u001b[0;34m)\u001b[0m\u001b[0;34m\u001b[0m\u001b[0;34m\u001b[0m\u001b[0m\n\u001b[0m\u001b[1;32m    626\u001b[0m             \u001b[0;32mexcept\u001b[0m \u001b[0;34m(\u001b[0m\u001b[0mValueError\u001b[0m\u001b[0;34m,\u001b[0m \u001b[0mTypeError\u001b[0m\u001b[0;34m)\u001b[0m\u001b[0;34m:\u001b[0m\u001b[0;34m\u001b[0m\u001b[0;34m\u001b[0m\u001b[0m\n\u001b[1;32m    627\u001b[0m                 \u001b[0;31m# e.g. astype_nansafe can fail on object-dtype of strings\u001b[0m\u001b[0;34m\u001b[0m\u001b[0;34m\u001b[0m\u001b[0;34m\u001b[0m\u001b[0m\n",
            "\u001b[0;32m/usr/local/lib/python3.6/dist-packages/pandas/core/dtypes/cast.py\u001b[0m in \u001b[0;36mastype_nansafe\u001b[0;34m(arr, dtype, copy, skipna)\u001b[0m\n\u001b[1;32m    895\u001b[0m     \u001b[0;32mif\u001b[0m \u001b[0mcopy\u001b[0m \u001b[0;32mor\u001b[0m \u001b[0mis_object_dtype\u001b[0m\u001b[0;34m(\u001b[0m\u001b[0marr\u001b[0m\u001b[0;34m)\u001b[0m \u001b[0;32mor\u001b[0m \u001b[0mis_object_dtype\u001b[0m\u001b[0;34m(\u001b[0m\u001b[0mdtype\u001b[0m\u001b[0;34m)\u001b[0m\u001b[0;34m:\u001b[0m\u001b[0;34m\u001b[0m\u001b[0;34m\u001b[0m\u001b[0m\n\u001b[1;32m    896\u001b[0m         \u001b[0;31m# Explicit copy, or required since NumPy can't view from / to object.\u001b[0m\u001b[0;34m\u001b[0m\u001b[0;34m\u001b[0m\u001b[0;34m\u001b[0m\u001b[0m\n\u001b[0;32m--> 897\u001b[0;31m         \u001b[0;32mreturn\u001b[0m \u001b[0marr\u001b[0m\u001b[0;34m.\u001b[0m\u001b[0mastype\u001b[0m\u001b[0;34m(\u001b[0m\u001b[0mdtype\u001b[0m\u001b[0;34m,\u001b[0m \u001b[0mcopy\u001b[0m\u001b[0;34m=\u001b[0m\u001b[0;32mTrue\u001b[0m\u001b[0;34m)\u001b[0m\u001b[0;34m\u001b[0m\u001b[0;34m\u001b[0m\u001b[0m\n\u001b[0m\u001b[1;32m    898\u001b[0m \u001b[0;34m\u001b[0m\u001b[0m\n\u001b[1;32m    899\u001b[0m     \u001b[0;32mreturn\u001b[0m \u001b[0marr\u001b[0m\u001b[0;34m.\u001b[0m\u001b[0mview\u001b[0m\u001b[0;34m(\u001b[0m\u001b[0mdtype\u001b[0m\u001b[0;34m)\u001b[0m\u001b[0;34m\u001b[0m\u001b[0;34m\u001b[0m\u001b[0m\n",
            "\u001b[0;31mValueError\u001b[0m: could not convert string to float: "
          ]
        }
      ]
    },
    {
      "cell_type": "code",
      "metadata": {
        "id": "2LX5d1JF4Z0Q",
        "colab_type": "code",
        "colab": {
          "base_uri": "https://localhost:8080/",
          "height": 542
        },
        "outputId": "82a00ae2-7a20-45b4-cbb0-8da55fcd8af4"
      },
      "source": [
        "\n",
        "\n",
        "fig = px.choropleth(data_frame = df,\n",
        "                    locations= \"iso_alpha\",\n",
        "                    color= \"per_hour_USD\",  # value in column  determines color\n",
        "                    hover_name= \"country_name\",\n",
        "                    color_continuous_scale= px.colors.sequential.RdBu)  #  color scale red, yellow green\n",
        "                    #animation_frame= \"Date\")\n",
        "\n",
        "fig.show()\n",
        "\n"
      ],
      "execution_count": 46,
      "outputs": [
        {
          "output_type": "display_data",
          "data": {
            "text/html": [
              "<html>\n",
              "<head><meta charset=\"utf-8\" /></head>\n",
              "<body>\n",
              "    <div>\n",
              "            <script src=\"https://cdnjs.cloudflare.com/ajax/libs/mathjax/2.7.5/MathJax.js?config=TeX-AMS-MML_SVG\"></script><script type=\"text/javascript\">if (window.MathJax) {MathJax.Hub.Config({SVG: {font: \"STIX-Web\"}});}</script>\n",
              "                <script type=\"text/javascript\">window.PlotlyConfig = {MathJaxConfig: 'local'};</script>\n",
              "        <script src=\"https://cdn.plot.ly/plotly-latest.min.js\"></script>    \n",
              "            <div id=\"c778a622-f960-42f7-9ad2-23874fe6aa4e\" class=\"plotly-graph-div\" style=\"height:525px; width:100%;\"></div>\n",
              "            <script type=\"text/javascript\">\n",
              "                \n",
              "                    window.PLOTLYENV=window.PLOTLYENV || {};\n",
              "                    \n",
              "                if (document.getElementById(\"c778a622-f960-42f7-9ad2-23874fe6aa4e\")) {\n",
              "                    Plotly.newPlot(\n",
              "                        'c778a622-f960-42f7-9ad2-23874fe6aa4e',\n",
              "                        [{\"coloraxis\": \"coloraxis\", \"geo\": \"geo\", \"hoverlabel\": {\"namelength\": 0}, \"hovertemplate\": \"<b>%{hovertext}</b><br><br>iso_alpha=%{location}<br>per_hour_USD=%{z}\", \"hovertext\": [\"\\u00a0Afghanistan\", \"\\u00a0Albania\", \"\\u00a0Algeria\", \"\\u00a0Andorra\", \"\\u00a0Angola\", \"\\u00a0Antigua and Barbuda\", \"\\u00a0Argentina\", \"\\u00a0Armenia\", \"\\u00a0Australia\", \"\\u00a0Austria\", \"\\u00a0Azerbaijan\", \"\\u00a0The Bahamas\", \"\\u00a0Bahrain\", \"\\u00a0Bangladesh\", \"\\u00a0Barbados\", \"\\u00a0Belarus\", \"\\u00a0Belgium\", \"\\u00a0Belize\", \"\\u00a0Benin\", \"\\u00a0Bhutan\", \"\\u00a0Bolivia\", \"\\u00a0Bosnia and Herzegovina\", \"\\u00a0Botswana\", \"\\u00a0Brazil\", \"\\u00a0Brunei\", \"\\u00a0Bulgaria\", \"\\u00a0Burkina Faso\", \"\\u00a0Burundi\", \"\\u00a0Cambodia\", \"\\u00a0Cameroon\", \"\\u00a0Canada\", \"\\u00a0Cape Verde\", \"\\u00a0Central African Republic\", \"\\u00a0Chad\", \"\\u00a0Chile\", \"\\u00a0China\", \"\\u00a0Colombia\", \"\\u00a0Comoros\", \"\\u00a0Democratic Republic of the Congo\", \"\\u00a0Republic of the Congo\", \"\\u00a0Costa Rica\", \"\\u00a0C\\u00f4te d'Ivoire\", \"\\u00a0Croatia\", \"\\u00a0Cuba\", \"\\u00a0Cyprus\", \"\\u00a0Czech Republic\", \"\\u00a0Denmark\", \"\\u00a0Djibouti\", \"\\u00a0Dominica\", \"\\u00a0Dominican Republic\", \"\\u00a0Ecuador\", \"\\u00a0Egypt\", \"\\u00a0El Salvador\", \"\\u00a0Equatorial Guinea\", \"\\u00a0Eritrea\", \"\\u00a0Estonia\", \"\\u00a0Eswatini\", \"\\u00a0Ethiopia\", \"\\u00a0Federated States of Micronesia\", \"\\u00a0Fiji\", \"\\u00a0Finland\", \"\\u00a0France\", \"\\u00a0Gabon\", \"\\u00a0The Gambia\", \"\\u00a0Georgia\", \"\\u00a0Germany\", \"\\u00a0Ghana\", \"\\u00a0Greece\", \"\\u00a0Grenada\", \"\\u00a0Guatemala\", \"\\u00a0Guernsey\", \"\\u00a0Guinea\", \"\\u00a0Guinea-Bissau\", \"\\u00a0Guyana\", \"\\u00a0Haiti\", \"\\u00a0Honduras\", \"\\u00a0Hong Kong\", \"\\u00a0Hungary\", \"\\u00a0Iceland\", \"\\u00a0India\", \"\\u00a0Indonesia\", \"\\u00a0Iran\", \"\\u00a0Iraq\", \"\\u00a0Ireland\", \"\\u00a0Isle of Man\", \"\\u00a0Israel\", \"\\u00a0Italy\", \"\\u00a0Jamaica\", \"\\u00a0Japan\", \"\\u00a0Jersey\", \"\\u00a0Jordan\", \"\\u00a0Kazakhstan\", \"\\u00a0Kenya\", \"\\u00a0Kiribati\", \"\\u00a0North Korea\", \"\\u00a0South Korea\", \"\\u00a0Kosovo\", \"\\u00a0Kuwait\", \"\\u00a0Kyrgyzstan\", \"\\u00a0Laos\", \"\\u00a0Latvia\", \"\\u00a0Lebanon\", \"\\u00a0Lesotho\", \"\\u00a0Liberia\", \"\\u00a0Libya\", \"\\u00a0Liechtenstein\", \"\\u00a0Lithuania\", \"\\u00a0Luxembourg\", \"\\u00a0North Macedonia\", \"\\u00a0Madagascar\", \"\\u00a0Malawi\", \"\\u00a0Malaysia\", \"\\u00a0Maldives\", \"\\u00a0Mali\", \"\\u00a0Malta\", \"\\u00a0Marshall Islands\", \"\\u00a0Mauritania\", \"\\u00a0Mauritius\", \"\\u00a0Mexico\", \"\\u00a0Moldova\", \"\\u00a0Monaco\", \"\\u00a0Mongolia\", \"\\u00a0Montenegro\", \"\\u00a0Morocco\", \"\\u00a0Mozambique\", \"\\u00a0Myanmar\", \"\\u00a0Namibia\", \"\\u00a0Nauru\", \"\\u00a0\\u00a0\\u00a0Nepal\", \"\\u00a0Netherlands\", \"\\u00a0New Zealand\", \"\\u00a0Nicaragua\", \"\\u00a0Niger\", \"\\u00a0Nigeria\", \"\\u00a0Northern Cyprus\", \"\\u00a0Norway\", \"\\u00a0Oman\", \"\\u00a0Pakistan\", \"\\u00a0Palau\", \"\\u00a0Palestine\", \"\\u00a0Panama\", \"\\u00a0Papua New Guinea\", \"\\u00a0Paraguay\", \"\\u00a0Peru\", \"\\u00a0Philippines\", \"\\u00a0Poland\", \"\\u00a0Portugal\", \"\\u00a0Qatar\", \"\\u00a0Romania\", \"\\u00a0Russia\", \"\\u00a0Rwanda\", \"\\u00a0Saint Kitts and Nevis\", \"\\u00a0Saint Lucia\", \"\\u00a0Saint Vincent and the Grenadines\", \"\\u00a0Samoa\", \"\\u00a0San Marino\", \"\\u00a0S\\u00e3o Tom\\u00e9 and Pr\\u00edncipe\", \"\\u00a0Saudi Arabia\", \"\\u00a0Senegal\", \"\\u00a0Serbia\", \"\\u00a0Seychelles\", \"\\u00a0Sierra Leone\", \"\\u00a0Singapore\", \"\\u00a0Slovakia\", \"\\u00a0Slovenia\", \"\\u00a0Solomon Islands\", \"\\u00a0Somalia\", \"\\u00a0South Africa\", \"\\u00a0South Sudan\", \"\\u00a0Spain\", \"\\u00a0Sri Lanka\", \"\\u00a0Sudan\", \"\\u00a0Suriname\", \"\\u00a0Sweden\", \"\\u00a0\\u00a0Switzerland\", \"\\u00a0Syria\", \"\\u00a0Taiwan\", \"\\u00a0Tajikistan\", \"\\u00a0Tanzania\", \"\\u00a0Thailand\", \"\\u00a0Timor-Leste\", \"\\u00a0Togo\", \"\\u00a0Tonga\", \"\\u00a0Trinidad and Tobago\", \"\\u00a0Tunisia\", \"\\u00a0Turkey\", \"\\u00a0Turkmenistan\", \"\\u00a0Tuvalu\", \"\\u00a0Uganda\", \"\\u00a0Ukraine\", \"\\u00a0United Arab Emirates\", \"\\u00a0United Kingdom\", \"\\u00a0United States\", \"\\u00a0Uruguay\", \"\\u00a0Uzbekistan\", \"\\u00a0Vanuatu\", \"\\u00a0Venezuela\", \"\\u00a0Vietnam\", \"\\u00a0Yemen\", \"\\u00a0Zambia\", \"\\u00a0Zimbabwe\", null, null, null, null, null, null, null, null, null, null, null, null, null, null, null, null, null, null, null, null, null, null, null, null, null, null, null, null, null, null, null, null, null, null, null, null, null, null, null, null, null, null, null, null, null, null, null, null, null, null, null, null, null, null, null, null, null, null, null, null, null, null, null, null, null, null, null, null, null, null, null, null, null, null, null, null, null, null, null, null, null, null, null, null, null, null, null, null, null, null, null, null, null, null, null, null, null, null, null, null, null, null, null, null, null, null, null, null, null, null, null, null, null, null, null, null, null, null, null, null, null, null, null, null, null, null, null, null, null, null, null, null, null, null, null, null, null, null, null, null, null, null, null, null, null, null, null, null, null, null, null, null, null, null, null, null, null, null, null, null, null, null, null, null, null, null, null, null, null, null, null, null, null, null, null, null, null, null, null, null, null, null, null, null, null, null, null, null, null, null, null, null, null, null, null, null, null, null, null, null, null, null, null], \"locations\": [\"AFG\", \"ALB\", \"DZA\", \"AND\", \"AGO\", \"ATG\", \"ARG\", \"ARM\", \"AUS\", \"AUT\", \"AZE\", \"BHS\", \"BHR\", \"BGD\", \"BRB\", \"BLR\", \"BEL\", \"BLZ\", \"BEN\", \"BTN\", \"BOL\", \"BIH\", \"BWA\", \"BRA\", \"BRN\", \"BGR\", \"BFA\", \"BDI\", \"KHM\", \"CMR\", \"CAN\", \" \", \"CAF\", \"TCD\", \"CHL\", \"CHN\", \"COL\", \"COM\", \" \", \"COG\", \"CRI\", \"CIV\", \"HRV\", \"CUB\", \"CYP\", \"CZE\", \"DNK\", \"DJI\", \"DMA\", \"DOM\", \"ECU\", \"EGY\", \"SLV\", \"GNQ\", \"ERI\", \"EST\", \"SWZ\", \"ETH\", \"FSM\", \"FJI\", \"FIN\", \"FRA\", \"GAB\", \"GMB\", \"GEO\", \"DEU\", \"GHA\", \"GRC\", \"GRD\", \"GTM\", \"GGY\", \"GIN\", \"GNB\", \"GUY\", \"HTI\", \"HND\", \"HKG\", \"HUN\", \"ISL\", \"IND\", \"IDN\", \"IRN\", \"IRQ\", \"IRL\", \"IMN\", \"ISR\", \"ITA\", \"JAM\", \"JPN\", \"JEY\", \"JOR\", \"KAZ\", \"KEN\", \"KIR\", \" \", \" \", \"SRB\", \"KWT\", \"KGZ\", \" \", \"LVA\", \"LBN\", \"LSO\", \"LBR\", \"LBY\", \"LIE\", \"LTU\", \"LUX\", \"MKD\", \"MDG\", \"MWI\", \"MYS\", \"MDV\", \"MLI\", \"MLT\", \"MHL\", \"MRT\", \"MUS\", \"MEX\", \"MDA\", \"MCO\", \"MNG\", \"MNE\", \"MAR\", \"MOZ\", \"MMR\", \"NAM\", \"NRU\", \"NPL\", \"NLD\", \"NZL\", \"NIC\", \"NGA\", \"NGA\", \" \", \"NOR\", \"OMN\", \"PAK\", \"PLW\", \"PSE\", \"PAN\", \"PNG\", \"PRY\", \"PER\", \"PHL\", \"POL\", \"PRT\", \"QAT\", \"ROU\", \"RUS\", \"RWA\", \"KNA\", \"LCA\", \"VCT\", \"WSM\", \"SMR\", \"STP\", \"SAU\", \"SEN\", \"SRB\", \"SYC\", \"SLE\", \"SGP\", \"SVK\", \"SVN\", \"SLB\", \"SOM\", \"ZAF\", \"SSD\", \"ESP\", \"LKA\", \"SDN\", \"SUR\", \"SWE\", \"CHE\", \"SYR\", \"TWN\", \"TJK\", \"TZA\", \"THA\", \"TLS\", \"TGO\", \"TON\", \"TTO\", \"TUN\", \"TUR\", \"TKM\", \"TUV\", \"UGA\", \"UKR\", \"ARE\", \"GBR\", \"USA\", \"URY\", \"UZB\", \"VUT\", \"VEN\", \"VNM\", \"YEM\", \"ZMB\", \"ZWE\", null, null, null, null, null, null, null, null, null, null, null, null, null, null, null, null, null, null, null, null, null, null, null, null, null, null, null, null, null, null, null, null, null, null, null, null, null, null, null, null, null, null, null, null, null, null, null, null, null, null, null, null, null, null, null, null, null, null, null, null, null, null, null, null, null, null, null, null, null, null, null, null, null, null, null, null, null, null, null, null, null, null, null, null, null, null, null, null, null, null, null, null, null, null, null, null, null, null, null, null, null, null, null, null, null, null, null, null, null, null, null, null, null, null, null, null, null, null, null, null, null, null, null, null, null, null, null, null, null, null, null, null, null, null, null, null, null, null, null, null, null, null, null, null, null, null, null, null, null, null, null, null, null, null, null, null, null, null, null, null, null, null, null, null, null, null, null, null, null, null, null, null, null, null, null, null, null, null, null, null, null, null, null, null, null, null, null, null, null, null, null, null, null, null, null, null, null, null, null, null, null, null, null], \"name\": \"\", \"type\": \"choropleth\", \"z\": [\"0.5\", \"1.16\", \"0.94\", \"6.85\", \"0.73\", \"3.04\", \"2.33\", \"0.81\", \"15.26\", \"\", \"0.84\", \"5.25\", \"\", \"0.09\", \"3.13\", \"0.99\", \"11.42\", \"1.65\", \"0.4\", \"0.33\", \"1.51\", \"1.35\", \"0.29\", \"1.53\", \"\", \"2.11\", \"0.34\", \"\", \"\", \"0.36\", \"10.54\", \"0.7\", \"0.38\", \"0.61\", \"2.38\", \"0.98\", \"1.73\", \"0.73\", \"0.13\", \"0.89\", \"2.69\", \"0.36\", \"3.27\", \"0.08\", \"\", \"3.41\", \"\", \"\", \"1.48\", \"0.38\", \"2.5\", \"\", \"1.6\", \"1.07\", \"\", \"3.79\", \"0.33\", \"\", \"\", \"1.29\", \"\", \"11.62\", \"1.49\", \"0.13\", \"0.06\", \"10.83\", \"0.28\", \"5.16\", \"\", \"1.65\", \"\", \"\", \"0.17\", \"0.98\", \"0.57\", \"1.08\", \"4.83\", \"3.38\", \"\", \"0.31\", \"0.63\", \"0.71\", \"1.22\", \"11.92\", \"\", \"8.09\", \"\", \"1.37\", \"7.15\", \"\", \"2.17\", \"0.5\", \"0.28\", \"1\", \"\", \"9.1\", \"1.16\", \"0.96\", \"0.1\", \"0.81\", \"2.93\", \"2.15\", \"0.45\", \"0.13\", \"1.87\", \"\", \"4\", \"14.12\", \"1.09\", \"0.22\", \"0.12\", \"1.03\", \"\", \"0.24\", \"5.3\", \"2\", \"0.48\", \"1.31\", \"0.95\", \"0.87\", \"11.88\", \"0.99\", \"1.25\", \"1.62\", \"0.27\", \"0.33\", \"\", \"\", \"0.62\", \"11\", \"13.4\", \"0.51\", \"0.3\", \"0.57\", \"\", \"\", \"4.39\", \"0.69\", \"3\", \"2.07\", \"1.53\", \"1\", \"1.81\", \"1.37\", \"1.33\", \"3.97\", \"4.76\", \"\", \"2.96\", \"1.2\", \"\", \"3.33\", \"\", \"1.16\", \"0.79\", \"10.38\", \"\", \"3.85\", \"0.31\", \"1.94\", \"1.96\", \"0.57\", \"\", \"3.48\", \"6.03\", \"0.41\", \"\", \"1.5\", \"\", \"7.54\", \"0.34\", \"0.37\", \"\", \"\", \"\", \"0.4\", \"5.26\", \"0.17\", \"0.09\", \"1.22\", \"0.6\", \"0.35\", \"\", \"2.21\", \"0.41\", \"4.13\", \"0.88\", \"\", \"0.21\", \"1.02\", \"\", \"11.63\", \"7.25\", \"2.73\", \"0.24\", \"1.6\", \"210.42\", \"0.73\", \"\", \"0.5\", \"\", null, null, null, null, null, null, null, null, null, null, null, null, null, null, null, null, null, null, null, null, null, null, null, null, null, null, null, null, null, null, null, null, null, null, null, null, null, null, null, null, null, null, null, null, null, null, null, null, null, null, null, null, null, null, null, null, null, null, null, null, null, null, null, null, null, null, null, null, null, null, null, null, null, null, null, null, null, null, null, null, null, null, null, null, null, null, null, null, null, null, null, null, null, null, null, null, null, null, null, null, null, null, null, null, null, null, null, null, null, null, null, null, null, null, null, null, null, null, null, null, null, null, null, null, null, null, null, null, null, null, null, null, null, null, null, null, null, null, null, null, null, null, null, null, null, null, null, null, null, null, null, null, null, null, null, null, null, null, null, null, null, null, null, null, null, null, null, null, null, null, null, null, null, null, null, null, null, null, null, null, null, null, null, null, null, null, null, null, null, null, null, null, null, null, null, null, null, null, null, null, null, null, null]}],\n",
              "                        {\"coloraxis\": {\"colorbar\": {\"title\": {\"text\": \"per_hour_USD\"}}, \"colorscale\": [[0.0, \"rgb(103,0,31)\"], [0.1, \"rgb(178,24,43)\"], [0.2, \"rgb(214,96,77)\"], [0.3, \"rgb(244,165,130)\"], [0.4, \"rgb(253,219,199)\"], [0.5, \"rgb(247,247,247)\"], [0.6, \"rgb(209,229,240)\"], [0.7, \"rgb(146,197,222)\"], [0.8, \"rgb(67,147,195)\"], [0.9, \"rgb(33,102,172)\"], [1.0, \"rgb(5,48,97)\"]]}, \"geo\": {\"center\": {}, \"domain\": {\"x\": [0.0, 1.0], \"y\": [0.0, 1.0]}}, \"legend\": {\"tracegroupgap\": 0}, \"margin\": {\"t\": 60}, \"template\": {\"data\": {\"bar\": [{\"error_x\": {\"color\": \"#2a3f5f\"}, \"error_y\": {\"color\": \"#2a3f5f\"}, \"marker\": {\"line\": {\"color\": \"#E5ECF6\", \"width\": 0.5}}, \"type\": \"bar\"}], \"barpolar\": [{\"marker\": {\"line\": {\"color\": \"#E5ECF6\", \"width\": 0.5}}, \"type\": \"barpolar\"}], \"carpet\": [{\"aaxis\": {\"endlinecolor\": \"#2a3f5f\", \"gridcolor\": \"white\", \"linecolor\": \"white\", \"minorgridcolor\": \"white\", \"startlinecolor\": \"#2a3f5f\"}, \"baxis\": {\"endlinecolor\": \"#2a3f5f\", \"gridcolor\": \"white\", \"linecolor\": \"white\", \"minorgridcolor\": \"white\", \"startlinecolor\": \"#2a3f5f\"}, \"type\": \"carpet\"}], \"choropleth\": [{\"colorbar\": {\"outlinewidth\": 0, \"ticks\": \"\"}, \"type\": \"choropleth\"}], \"contour\": [{\"colorbar\": {\"outlinewidth\": 0, \"ticks\": \"\"}, \"colorscale\": [[0.0, \"#0d0887\"], [0.1111111111111111, \"#46039f\"], [0.2222222222222222, \"#7201a8\"], [0.3333333333333333, \"#9c179e\"], [0.4444444444444444, \"#bd3786\"], [0.5555555555555556, \"#d8576b\"], [0.6666666666666666, \"#ed7953\"], [0.7777777777777778, \"#fb9f3a\"], [0.8888888888888888, \"#fdca26\"], [1.0, \"#f0f921\"]], \"type\": \"contour\"}], \"contourcarpet\": [{\"colorbar\": {\"outlinewidth\": 0, \"ticks\": \"\"}, \"type\": \"contourcarpet\"}], \"heatmap\": [{\"colorbar\": {\"outlinewidth\": 0, \"ticks\": \"\"}, \"colorscale\": [[0.0, \"#0d0887\"], [0.1111111111111111, \"#46039f\"], [0.2222222222222222, \"#7201a8\"], [0.3333333333333333, \"#9c179e\"], [0.4444444444444444, \"#bd3786\"], [0.5555555555555556, \"#d8576b\"], [0.6666666666666666, \"#ed7953\"], [0.7777777777777778, \"#fb9f3a\"], [0.8888888888888888, \"#fdca26\"], [1.0, \"#f0f921\"]], \"type\": \"heatmap\"}], \"heatmapgl\": [{\"colorbar\": {\"outlinewidth\": 0, \"ticks\": \"\"}, \"colorscale\": [[0.0, \"#0d0887\"], [0.1111111111111111, \"#46039f\"], [0.2222222222222222, \"#7201a8\"], [0.3333333333333333, \"#9c179e\"], [0.4444444444444444, \"#bd3786\"], [0.5555555555555556, \"#d8576b\"], [0.6666666666666666, \"#ed7953\"], [0.7777777777777778, \"#fb9f3a\"], [0.8888888888888888, \"#fdca26\"], [1.0, \"#f0f921\"]], \"type\": \"heatmapgl\"}], \"histogram\": [{\"marker\": {\"colorbar\": {\"outlinewidth\": 0, \"ticks\": \"\"}}, \"type\": \"histogram\"}], \"histogram2d\": [{\"colorbar\": {\"outlinewidth\": 0, \"ticks\": \"\"}, \"colorscale\": [[0.0, \"#0d0887\"], [0.1111111111111111, \"#46039f\"], [0.2222222222222222, \"#7201a8\"], [0.3333333333333333, \"#9c179e\"], [0.4444444444444444, \"#bd3786\"], [0.5555555555555556, \"#d8576b\"], [0.6666666666666666, \"#ed7953\"], [0.7777777777777778, \"#fb9f3a\"], [0.8888888888888888, \"#fdca26\"], [1.0, \"#f0f921\"]], \"type\": \"histogram2d\"}], \"histogram2dcontour\": [{\"colorbar\": {\"outlinewidth\": 0, \"ticks\": \"\"}, \"colorscale\": [[0.0, \"#0d0887\"], [0.1111111111111111, \"#46039f\"], [0.2222222222222222, \"#7201a8\"], [0.3333333333333333, \"#9c179e\"], [0.4444444444444444, \"#bd3786\"], [0.5555555555555556, \"#d8576b\"], [0.6666666666666666, \"#ed7953\"], [0.7777777777777778, \"#fb9f3a\"], [0.8888888888888888, \"#fdca26\"], [1.0, \"#f0f921\"]], \"type\": \"histogram2dcontour\"}], \"mesh3d\": [{\"colorbar\": {\"outlinewidth\": 0, \"ticks\": \"\"}, \"type\": \"mesh3d\"}], \"parcoords\": [{\"line\": {\"colorbar\": {\"outlinewidth\": 0, \"ticks\": \"\"}}, \"type\": \"parcoords\"}], \"pie\": [{\"automargin\": true, \"type\": \"pie\"}], \"scatter\": [{\"marker\": {\"colorbar\": {\"outlinewidth\": 0, \"ticks\": \"\"}}, \"type\": \"scatter\"}], \"scatter3d\": [{\"line\": {\"colorbar\": {\"outlinewidth\": 0, \"ticks\": \"\"}}, \"marker\": {\"colorbar\": {\"outlinewidth\": 0, \"ticks\": \"\"}}, \"type\": \"scatter3d\"}], \"scattercarpet\": [{\"marker\": {\"colorbar\": {\"outlinewidth\": 0, \"ticks\": \"\"}}, \"type\": \"scattercarpet\"}], \"scattergeo\": [{\"marker\": {\"colorbar\": {\"outlinewidth\": 0, \"ticks\": \"\"}}, \"type\": \"scattergeo\"}], \"scattergl\": [{\"marker\": {\"colorbar\": {\"outlinewidth\": 0, \"ticks\": \"\"}}, \"type\": \"scattergl\"}], \"scattermapbox\": [{\"marker\": {\"colorbar\": {\"outlinewidth\": 0, \"ticks\": \"\"}}, \"type\": \"scattermapbox\"}], \"scatterpolar\": [{\"marker\": {\"colorbar\": {\"outlinewidth\": 0, \"ticks\": \"\"}}, \"type\": \"scatterpolar\"}], \"scatterpolargl\": [{\"marker\": {\"colorbar\": {\"outlinewidth\": 0, \"ticks\": \"\"}}, \"type\": \"scatterpolargl\"}], \"scatterternary\": [{\"marker\": {\"colorbar\": {\"outlinewidth\": 0, \"ticks\": \"\"}}, \"type\": \"scatterternary\"}], \"surface\": [{\"colorbar\": {\"outlinewidth\": 0, \"ticks\": \"\"}, \"colorscale\": [[0.0, \"#0d0887\"], [0.1111111111111111, \"#46039f\"], [0.2222222222222222, \"#7201a8\"], [0.3333333333333333, \"#9c179e\"], [0.4444444444444444, \"#bd3786\"], [0.5555555555555556, \"#d8576b\"], [0.6666666666666666, \"#ed7953\"], [0.7777777777777778, \"#fb9f3a\"], [0.8888888888888888, \"#fdca26\"], [1.0, \"#f0f921\"]], \"type\": \"surface\"}], \"table\": [{\"cells\": {\"fill\": {\"color\": \"#EBF0F8\"}, \"line\": {\"color\": \"white\"}}, \"header\": {\"fill\": {\"color\": \"#C8D4E3\"}, \"line\": {\"color\": \"white\"}}, \"type\": \"table\"}]}, \"layout\": {\"annotationdefaults\": {\"arrowcolor\": \"#2a3f5f\", \"arrowhead\": 0, \"arrowwidth\": 1}, \"coloraxis\": {\"colorbar\": {\"outlinewidth\": 0, \"ticks\": \"\"}}, \"colorscale\": {\"diverging\": [[0, \"#8e0152\"], [0.1, \"#c51b7d\"], [0.2, \"#de77ae\"], [0.3, \"#f1b6da\"], [0.4, \"#fde0ef\"], [0.5, \"#f7f7f7\"], [0.6, \"#e6f5d0\"], [0.7, \"#b8e186\"], [0.8, \"#7fbc41\"], [0.9, \"#4d9221\"], [1, \"#276419\"]], \"sequential\": [[0.0, \"#0d0887\"], [0.1111111111111111, \"#46039f\"], [0.2222222222222222, \"#7201a8\"], [0.3333333333333333, \"#9c179e\"], [0.4444444444444444, \"#bd3786\"], [0.5555555555555556, \"#d8576b\"], [0.6666666666666666, \"#ed7953\"], [0.7777777777777778, \"#fb9f3a\"], [0.8888888888888888, \"#fdca26\"], [1.0, \"#f0f921\"]], \"sequentialminus\": [[0.0, \"#0d0887\"], [0.1111111111111111, \"#46039f\"], [0.2222222222222222, \"#7201a8\"], [0.3333333333333333, \"#9c179e\"], [0.4444444444444444, \"#bd3786\"], [0.5555555555555556, \"#d8576b\"], [0.6666666666666666, \"#ed7953\"], [0.7777777777777778, \"#fb9f3a\"], [0.8888888888888888, \"#fdca26\"], [1.0, \"#f0f921\"]]}, \"colorway\": [\"#636efa\", \"#EF553B\", \"#00cc96\", \"#ab63fa\", \"#FFA15A\", \"#19d3f3\", \"#FF6692\", \"#B6E880\", \"#FF97FF\", \"#FECB52\"], \"font\": {\"color\": \"#2a3f5f\"}, \"geo\": {\"bgcolor\": \"white\", \"lakecolor\": \"white\", \"landcolor\": \"#E5ECF6\", \"showlakes\": true, \"showland\": true, \"subunitcolor\": \"white\"}, \"hoverlabel\": {\"align\": \"left\"}, \"hovermode\": \"closest\", \"mapbox\": {\"style\": \"light\"}, \"paper_bgcolor\": \"white\", \"plot_bgcolor\": \"#E5ECF6\", \"polar\": {\"angularaxis\": {\"gridcolor\": \"white\", \"linecolor\": \"white\", \"ticks\": \"\"}, \"bgcolor\": \"#E5ECF6\", \"radialaxis\": {\"gridcolor\": \"white\", \"linecolor\": \"white\", \"ticks\": \"\"}}, \"scene\": {\"xaxis\": {\"backgroundcolor\": \"#E5ECF6\", \"gridcolor\": \"white\", \"gridwidth\": 2, \"linecolor\": \"white\", \"showbackground\": true, \"ticks\": \"\", \"zerolinecolor\": \"white\"}, \"yaxis\": {\"backgroundcolor\": \"#E5ECF6\", \"gridcolor\": \"white\", \"gridwidth\": 2, \"linecolor\": \"white\", \"showbackground\": true, \"ticks\": \"\", \"zerolinecolor\": \"white\"}, \"zaxis\": {\"backgroundcolor\": \"#E5ECF6\", \"gridcolor\": \"white\", \"gridwidth\": 2, \"linecolor\": \"white\", \"showbackground\": true, \"ticks\": \"\", \"zerolinecolor\": \"white\"}}, \"shapedefaults\": {\"line\": {\"color\": \"#2a3f5f\"}}, \"ternary\": {\"aaxis\": {\"gridcolor\": \"white\", \"linecolor\": \"white\", \"ticks\": \"\"}, \"baxis\": {\"gridcolor\": \"white\", \"linecolor\": \"white\", \"ticks\": \"\"}, \"bgcolor\": \"#E5ECF6\", \"caxis\": {\"gridcolor\": \"white\", \"linecolor\": \"white\", \"ticks\": \"\"}}, \"title\": {\"x\": 0.05}, \"xaxis\": {\"automargin\": true, \"gridcolor\": \"white\", \"linecolor\": \"white\", \"ticks\": \"\", \"title\": {\"standoff\": 15}, \"zerolinecolor\": \"white\", \"zerolinewidth\": 2}, \"yaxis\": {\"automargin\": true, \"gridcolor\": \"white\", \"linecolor\": \"white\", \"ticks\": \"\", \"title\": {\"standoff\": 15}, \"zerolinecolor\": \"white\", \"zerolinewidth\": 2}}}},\n",
              "                        {\"responsive\": true}\n",
              "                    ).then(function(){\n",
              "                            \n",
              "var gd = document.getElementById('c778a622-f960-42f7-9ad2-23874fe6aa4e');\n",
              "var x = new MutationObserver(function (mutations, observer) {{\n",
              "        var display = window.getComputedStyle(gd).display;\n",
              "        if (!display || display === 'none') {{\n",
              "            console.log([gd, 'removed!']);\n",
              "            Plotly.purge(gd);\n",
              "            observer.disconnect();\n",
              "        }}\n",
              "}});\n",
              "\n",
              "// Listen for the removal of the full notebook cells\n",
              "var notebookContainer = gd.closest('#notebook-container');\n",
              "if (notebookContainer) {{\n",
              "    x.observe(notebookContainer, {childList: true});\n",
              "}}\n",
              "\n",
              "// Listen for the clearing of the current output cell\n",
              "var outputEl = gd.closest('.output');\n",
              "if (outputEl) {{\n",
              "    x.observe(outputEl, {childList: true});\n",
              "}}\n",
              "\n",
              "                        })\n",
              "                };\n",
              "                \n",
              "            </script>\n",
              "        </div>\n",
              "</body>\n",
              "</html>"
            ]
          },
          "metadata": {
            "tags": []
          }
        }
      ]
    },
    {
      "cell_type": "markdown",
      "metadata": {
        "id": "RIcDtC_Y0WQB",
        "colab_type": "text"
      },
      "source": [
        "### Clean/Tidy Data"
      ]
    },
    {
      "cell_type": "code",
      "metadata": {
        "id": "NfoUppiUhdDV",
        "colab_type": "code",
        "colab": {
          "base_uri": "https://localhost:8080/",
          "height": 204
        },
        "outputId": "e8984169-e9de-4fe8-810d-8d2ced2cc9e6"
      },
      "source": [
        "# Using USPS state codes because Plotly will automatically associate these specific abbreviations with location on the map\n",
        "df_min = pd.merge(df_min,  df_codes, on='State',how='left') \n",
        "df_min.tail()"
      ],
      "execution_count": null,
      "outputs": [
        {
          "output_type": "execute_result",
          "data": {
            "text/html": [
              "<div>\n",
              "<style scoped>\n",
              "    .dataframe tbody tr th:only-of-type {\n",
              "        vertical-align: middle;\n",
              "    }\n",
              "\n",
              "    .dataframe tbody tr th {\n",
              "        vertical-align: top;\n",
              "    }\n",
              "\n",
              "    .dataframe thead th {\n",
              "        text-align: right;\n",
              "    }\n",
              "</style>\n",
              "<table border=\"1\" class=\"dataframe\">\n",
              "  <thead>\n",
              "    <tr style=\"text-align: right;\">\n",
              "      <th></th>\n",
              "      <th>State</th>\n",
              "      <th>Wage</th>\n",
              "      <th>lw_10</th>\n",
              "      <th>lw_22</th>\n",
              "      <th>Abbreviation</th>\n",
              "    </tr>\n",
              "  </thead>\n",
              "  <tbody>\n",
              "    <tr>\n",
              "      <th>46</th>\n",
              "      <td>Virginia</td>\n",
              "      <td>7.25</td>\n",
              "      <td>14.00</td>\n",
              "      <td>17.62</td>\n",
              "      <td>VA</td>\n",
              "    </tr>\n",
              "    <tr>\n",
              "      <th>47</th>\n",
              "      <td>Washington</td>\n",
              "      <td>13.50</td>\n",
              "      <td>13.47</td>\n",
              "      <td>17.45</td>\n",
              "      <td>WA</td>\n",
              "    </tr>\n",
              "    <tr>\n",
              "      <th>48</th>\n",
              "      <td>West Virginia</td>\n",
              "      <td>8.75</td>\n",
              "      <td>10.83</td>\n",
              "      <td>14.76</td>\n",
              "      <td>WV</td>\n",
              "    </tr>\n",
              "    <tr>\n",
              "      <th>49</th>\n",
              "      <td>Wisconsin</td>\n",
              "      <td>7.25</td>\n",
              "      <td>11.40</td>\n",
              "      <td>16.49</td>\n",
              "      <td>WI</td>\n",
              "    </tr>\n",
              "    <tr>\n",
              "      <th>50</th>\n",
              "      <td>Wyoming</td>\n",
              "      <td>7.25</td>\n",
              "      <td>11.05</td>\n",
              "      <td>16.54</td>\n",
              "      <td>WY</td>\n",
              "    </tr>\n",
              "  </tbody>\n",
              "</table>\n",
              "</div>"
            ],
            "text/plain": [
              "            State  Wage  lw_10  lw_22 Abbreviation\n",
              "46       Virginia  7.25  14.00  17.62           VA\n",
              "47     Washington 13.50  13.47  17.45           WA\n",
              "48  West Virginia  8.75  10.83  14.76           WV\n",
              "49      Wisconsin  7.25  11.40  16.49           WI\n",
              "50        Wyoming  7.25  11.05  16.54           WY"
            ]
          },
          "metadata": {
            "tags": []
          },
          "execution_count": 31
        }
      ]
    },
    {
      "cell_type": "markdown",
      "metadata": {
        "id": "KUTyzOrbzPfK",
        "colab_type": "text"
      },
      "source": [
        "## Exploration 1: 2020 minimum wage by state\n"
      ]
    },
    {
      "cell_type": "markdown",
      "metadata": {
        "id": "oJs3HTaa9q8Y",
        "colab_type": "text"
      },
      "source": [
        "### Map of minimum wage"
      ]
    },
    {
      "cell_type": "code",
      "metadata": {
        "id": "Ec2uHE47HA7a",
        "colab_type": "code",
        "colab": {}
      },
      "source": [
        "fig = px.choropleth(df_min,   \n",
        "                    locations=\"Abbreviation\",  # DataFrame column with locations\n",
        "                    color=\"Wage\",  # DataFrame column with color values\n",
        "                    hover_name=\"State\", # DataFrame column hover info\n",
        "                    locationmode = 'USA-states', # Set to plot as US States\n",
        "                    color_continuous_scale= px.colors.sequential.RdBu) # Colour palette\n",
        "fig.update_layout(\n",
        "    title_text = 'Minimum Wage by State, 2020', # Create a Title\n",
        "    geo_scope='usa',  # Plot only the USA instead of globe\n",
        ")\n",
        "fig.show()  # Output the plot to the screen"
      ],
      "execution_count": null,
      "outputs": []
    },
    {
      "cell_type": "markdown",
      "metadata": {
        "id": "gRI1sF7DzYKu",
        "colab_type": "text"
      },
      "source": [
        "### Overlay relative minimum wage with other stats: \n",
        "* proportion of living wage\n",
        "* state political party \n",
        "* state average age\n",
        "* Walmarts per capita..."
      ]
    },
    {
      "cell_type": "markdown",
      "metadata": {
        "id": "cjozZNxPOSWP",
        "colab_type": "text"
      },
      "source": [
        "#### proportion of living wage"
      ]
    },
    {
      "cell_type": "code",
      "metadata": {
        "id": "1WjmfYMy0RLP",
        "colab_type": "code",
        "colab": {
          "base_uri": "https://localhost:8080/",
          "height": 232
        },
        "outputId": "34db0272-7943-4521-8c2d-344dfc25f06e"
      },
      "source": [
        "# Add column that is minimum wage/living wage\n",
        "min_df['lw_10_prop'] = (min_df.Wage/min_df.lw_10).round(2)\n",
        "df_min['prop_lw10'] = (df_min.Wage/df_min.lw_10).round(2)\n",
        "\n",
        "fig = px.choropleth(df_min,   \n",
        "                    locations=\"Abbreviation\",  # DataFrame column with locations\n",
        "                    color=\"prop_lw10\",  # DataFrame column with color values\n",
        "                    hover_name=\"State\", # DataFrame column hover info\n",
        "                    locationmode = 'USA-states', # Set to plot as US States\n",
        "                    color_continuous_scale= px.colors.sequential.gray) # Colour palette\n",
        "fig.update_layout(\n",
        "    title_text = 'Proportion Minimum Wage:Living Wage by State, 2020', # Create a Title\n",
        "    geo_scope='usa',  # Plot only the USA instead of globe\n",
        ")\n",
        "fig.show()  # Output the plot to the screen"
      ],
      "execution_count": null,
      "outputs": [
        {
          "output_type": "error",
          "ename": "NameError",
          "evalue": "ignored",
          "traceback": [
            "\u001b[0;31m---------------------------------------------------------------------------\u001b[0m",
            "\u001b[0;31mNameError\u001b[0m                                 Traceback (most recent call last)",
            "\u001b[0;32m<ipython-input-5-14f2d1d88ab4>\u001b[0m in \u001b[0;36m<module>\u001b[0;34m()\u001b[0m\n\u001b[1;32m      1\u001b[0m \u001b[0;31m# Add column that is minimum wage/living wage\u001b[0m\u001b[0;34m\u001b[0m\u001b[0;34m\u001b[0m\u001b[0;34m\u001b[0m\u001b[0m\n\u001b[0;32m----> 2\u001b[0;31m \u001b[0mmin_df\u001b[0m\u001b[0;34m[\u001b[0m\u001b[0;34m'lw_10_prop'\u001b[0m\u001b[0;34m]\u001b[0m \u001b[0;34m=\u001b[0m \u001b[0;34m(\u001b[0m\u001b[0mmin_df\u001b[0m\u001b[0;34m.\u001b[0m\u001b[0mWage\u001b[0m\u001b[0;34m/\u001b[0m\u001b[0mmin_df\u001b[0m\u001b[0;34m.\u001b[0m\u001b[0mlw_10\u001b[0m\u001b[0;34m)\u001b[0m\u001b[0;34m.\u001b[0m\u001b[0mround\u001b[0m\u001b[0;34m(\u001b[0m\u001b[0;36m2\u001b[0m\u001b[0;34m)\u001b[0m\u001b[0;34m\u001b[0m\u001b[0;34m\u001b[0m\u001b[0m\n\u001b[0m\u001b[1;32m      3\u001b[0m \u001b[0mdf_min\u001b[0m\u001b[0;34m[\u001b[0m\u001b[0;34m'prop_lw10'\u001b[0m\u001b[0;34m]\u001b[0m \u001b[0;34m=\u001b[0m \u001b[0;34m(\u001b[0m\u001b[0mdf_min\u001b[0m\u001b[0;34m.\u001b[0m\u001b[0mWage\u001b[0m\u001b[0;34m/\u001b[0m\u001b[0mdf_min\u001b[0m\u001b[0;34m.\u001b[0m\u001b[0mlw_10\u001b[0m\u001b[0;34m)\u001b[0m\u001b[0;34m.\u001b[0m\u001b[0mround\u001b[0m\u001b[0;34m(\u001b[0m\u001b[0;36m2\u001b[0m\u001b[0;34m)\u001b[0m\u001b[0;34m\u001b[0m\u001b[0;34m\u001b[0m\u001b[0m\n\u001b[1;32m      4\u001b[0m \u001b[0;34m\u001b[0m\u001b[0m\n\u001b[1;32m      5\u001b[0m fig = px.choropleth(df_min,   \n",
            "\u001b[0;31mNameError\u001b[0m: name 'min_df' is not defined"
          ]
        }
      ]
    },
    {
      "cell_type": "markdown",
      "metadata": {
        "id": "Zg_pyQO6OUFF",
        "colab_type": "text"
      },
      "source": [
        "#### political party"
      ]
    },
    {
      "cell_type": "code",
      "metadata": {
        "id": "fjwmpglYMthH",
        "colab_type": "code",
        "colab": {
          "base_uri": "https://localhost:8080/",
          "height": 391
        },
        "outputId": "2974bf99-e5e7-44dc-ce98-981b5268406e"
      },
      "source": [
        "df_pol = pd.read_csv('/content/gdrive/My Drive/Colab Notebooks/min_wage/1976-2016-president.csv')\n",
        "df_pol = df_pol[['year','state','state_po','party' ]]\n",
        "df_pol.info()\n",
        "df_pol = df_pol.groupby(['year','state_po']).size().reset_index()\n",
        "df_pol.head()"
      ],
      "execution_count": null,
      "outputs": [
        {
          "output_type": "stream",
          "text": [
            "<class 'pandas.core.frame.DataFrame'>\n",
            "RangeIndex: 3740 entries, 0 to 3739\n",
            "Data columns (total 4 columns):\n",
            " #   Column    Non-Null Count  Dtype \n",
            "---  ------    --------------  ----- \n",
            " 0   year      3740 non-null   int64 \n",
            " 1   state     3740 non-null   object\n",
            " 2   state_po  3740 non-null   object\n",
            " 3   party     3404 non-null   object\n",
            "dtypes: int64(1), object(3)\n",
            "memory usage: 117.0+ KB\n"
          ],
          "name": "stdout"
        },
        {
          "output_type": "execute_result",
          "data": {
            "text/html": [
              "<div>\n",
              "<style scoped>\n",
              "    .dataframe tbody tr th:only-of-type {\n",
              "        vertical-align: middle;\n",
              "    }\n",
              "\n",
              "    .dataframe tbody tr th {\n",
              "        vertical-align: top;\n",
              "    }\n",
              "\n",
              "    .dataframe thead th {\n",
              "        text-align: right;\n",
              "    }\n",
              "</style>\n",
              "<table border=\"1\" class=\"dataframe\">\n",
              "  <thead>\n",
              "    <tr style=\"text-align: right;\">\n",
              "      <th></th>\n",
              "      <th>year</th>\n",
              "      <th>state_po</th>\n",
              "      <th>0</th>\n",
              "    </tr>\n",
              "  </thead>\n",
              "  <tbody>\n",
              "    <tr>\n",
              "      <th>0</th>\n",
              "      <td>1976</td>\n",
              "      <td>AK</td>\n",
              "      <td>4</td>\n",
              "    </tr>\n",
              "    <tr>\n",
              "      <th>1</th>\n",
              "      <td>1976</td>\n",
              "      <td>AL</td>\n",
              "      <td>7</td>\n",
              "    </tr>\n",
              "    <tr>\n",
              "      <th>2</th>\n",
              "      <td>1976</td>\n",
              "      <td>AR</td>\n",
              "      <td>4</td>\n",
              "    </tr>\n",
              "    <tr>\n",
              "      <th>3</th>\n",
              "      <td>1976</td>\n",
              "      <td>AZ</td>\n",
              "      <td>8</td>\n",
              "    </tr>\n",
              "    <tr>\n",
              "      <th>4</th>\n",
              "      <td>1976</td>\n",
              "      <td>CA</td>\n",
              "      <td>7</td>\n",
              "    </tr>\n",
              "  </tbody>\n",
              "</table>\n",
              "</div>"
            ],
            "text/plain": [
              "   year state_po  0\n",
              "0  1976       AK  4\n",
              "1  1976       AL  7\n",
              "2  1976       AR  4\n",
              "3  1976       AZ  8\n",
              "4  1976       CA  7"
            ]
          },
          "metadata": {
            "tags": []
          },
          "execution_count": 37
        }
      ]
    },
    {
      "cell_type": "markdown",
      "metadata": {
        "id": "qx9J0bNpOX_b",
        "colab_type": "text"
      },
      "source": [
        "#### Average Age"
      ]
    },
    {
      "cell_type": "code",
      "metadata": {
        "id": "W3gQcXIxOb1l",
        "colab_type": "code",
        "colab": {}
      },
      "source": [
        ""
      ],
      "execution_count": null,
      "outputs": []
    },
    {
      "cell_type": "markdown",
      "metadata": {
        "id": "MyCOhxa3Odak",
        "colab_type": "text"
      },
      "source": [
        "#### Walmarts per capita"
      ]
    },
    {
      "cell_type": "code",
      "metadata": {
        "id": "plDumQr1Ocnu",
        "colab_type": "code",
        "colab": {}
      },
      "source": [
        ""
      ],
      "execution_count": null,
      "outputs": []
    },
    {
      "cell_type": "markdown",
      "metadata": {
        "id": "lB0Ta6zg6sYC",
        "colab_type": "text"
      },
      "source": [
        "## Exploration 1: 2020 minimum wage by city\n"
      ]
    },
    {
      "cell_type": "code",
      "metadata": {
        "id": "1FYSDwZQ63qd",
        "colab_type": "code",
        "colab": {
          "base_uri": "https://localhost:8080/",
          "height": 368
        },
        "outputId": "42456b39-678b-4908-a07e-50306acb47ef"
      },
      "source": [
        " # libraries\n",
        "import Basemap\n",
        "import numpy as np\n",
        "import matplotlib.pyplot as plt\n",
        " \n",
        "# Make a data frame with the GPS of a few cities:\n",
        "data = pd.DataFrame({\n",
        "'lat':[-58, 2, 145, 30.32, -4.03, -73.57, 36.82, -38.5],\n",
        "'lon':[-34, 49, -38, 59.93, 5.33, 45.52, -1.29, -12.97],\n",
        "'name':['Buenos Aires', 'Paris', 'melbourne', 'St Petersbourg', 'Abidjan', 'Montreal', 'Nairobi', 'Salvador']\n",
        "})\n",
        " \n",
        "# A basic map\n",
        "m=Basemap(llcrnrlon=-160, llcrnrlat=-75,urcrnrlon=160,urcrnrlat=80)\n",
        "m.drawmapboundary(fill_color='#A6CAE0', linewidth=0)\n",
        "m.fillcontinents(color='grey', alpha=0.7, lake_color='grey')\n",
        "m.drawcoastlines(linewidth=0.1, color=\"white\")\n",
        " \n",
        "# Add a marker per city of the data frame!\n",
        "m.plot(data['lat'], data['lon'], linestyle='none', marker=\"o\", markersize=16, alpha=0.6, c=\"orange\", markeredgecolor=\"black\", markeredgewidth=1)\n",
        "\n",
        " "
      ],
      "execution_count": null,
      "outputs": [
        {
          "output_type": "error",
          "ename": "ModuleNotFoundError",
          "evalue": "ignored",
          "traceback": [
            "\u001b[0;31m---------------------------------------------------------------------------\u001b[0m",
            "\u001b[0;31mModuleNotFoundError\u001b[0m                       Traceback (most recent call last)",
            "\u001b[0;32m<ipython-input-9-041930b6c875>\u001b[0m in \u001b[0;36m<module>\u001b[0;34m()\u001b[0m\n\u001b[1;32m      1\u001b[0m \u001b[0;31m# libraries\u001b[0m\u001b[0;34m\u001b[0m\u001b[0;34m\u001b[0m\u001b[0;34m\u001b[0m\u001b[0m\n\u001b[0;32m----> 2\u001b[0;31m \u001b[0;32mimport\u001b[0m \u001b[0mBasemap\u001b[0m\u001b[0;34m\u001b[0m\u001b[0;34m\u001b[0m\u001b[0m\n\u001b[0m\u001b[1;32m      3\u001b[0m \u001b[0;32mimport\u001b[0m \u001b[0mnumpy\u001b[0m \u001b[0;32mas\u001b[0m \u001b[0mnp\u001b[0m\u001b[0;34m\u001b[0m\u001b[0;34m\u001b[0m\u001b[0m\n\u001b[1;32m      4\u001b[0m \u001b[0;32mimport\u001b[0m \u001b[0mmatplotlib\u001b[0m\u001b[0;34m.\u001b[0m\u001b[0mpyplot\u001b[0m \u001b[0;32mas\u001b[0m \u001b[0mplt\u001b[0m\u001b[0;34m\u001b[0m\u001b[0;34m\u001b[0m\u001b[0m\n\u001b[1;32m      5\u001b[0m \u001b[0;34m\u001b[0m\u001b[0m\n",
            "\u001b[0;31mModuleNotFoundError\u001b[0m: No module named 'Basemap'",
            "",
            "\u001b[0;31m---------------------------------------------------------------------------\u001b[0;32m\nNOTE: If your import is failing due to a missing package, you can\nmanually install dependencies using either !pip or !apt.\n\nTo view examples of installing some common dependencies, click the\n\"Open Examples\" button below.\n\u001b[0;31m---------------------------------------------------------------------------\u001b[0m\n"
          ]
        }
      ]
    },
    {
      "cell_type": "code",
      "metadata": {
        "id": "2bXy1Yy367Gu",
        "colab_type": "code",
        "colab": {}
      },
      "source": [
        "fig = px.choropleth(df_min,   \n",
        "                    locations=\"Abbreviation\",  # DataFrame column with locations\n",
        "                    color=\"Wage\",  # DataFrame column with color values\n",
        "                    hover_name=\"State\", # DataFrame column hover info\n",
        "                    locationmode = 'USA-states', # Set to plot as US States\n",
        "                    color_continuous_scale= px.colors.sequential.RdBu) # Colour palette\n",
        "fig.update_layout(\n",
        "    title_text = 'Minimum Wage by State, 2020', # Create a Title\n",
        "    geo_scope='usa',  # Plot only the USA instead of globe\n",
        ")\n",
        "fig.show()  # Output the plot to the screen"
      ],
      "execution_count": null,
      "outputs": []
    }
  ]
}