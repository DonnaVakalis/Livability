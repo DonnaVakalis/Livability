{
  "nbformat": 4,
  "nbformat_minor": 0,
  "metadata": {
    "colab": {
      "name": "Scratch.ipynb",
      "provenance": [],
      "toc_visible": true,
      "authorship_tag": "ABX9TyNmFLtQLHoU7sNfqj9z1ar6",
      "include_colab_link": true
    },
    "kernelspec": {
      "name": "python3",
      "display_name": "Python 3"
    }
  },
  "cells": [
    {
      "cell_type": "markdown",
      "metadata": {
        "id": "view-in-github",
        "colab_type": "text"
      },
      "source": [
        "<a href=\"https://colab.research.google.com/github/DonnaVakalis/Livability/blob/master/Scratch.ipynb\" target=\"_parent\"><img src=\"https://colab.research.google.com/assets/colab-badge.svg\" alt=\"Open In Colab\"/></a>"
      ]
    },
    {
      "cell_type": "markdown",
      "metadata": {
        "id": "op5oeKvo04C0",
        "colab_type": "text"
      },
      "source": [
        "# Minimum Wage Exploration\n",
        "\n",
        "---\n",
        "\n",
        "More notes here later...\n"
      ]
    },
    {
      "cell_type": "markdown",
      "metadata": {
        "id": "3JmGh38EzKe_",
        "colab_type": "text"
      },
      "source": [
        "## Setup\n",
        "\n"
      ]
    },
    {
      "cell_type": "markdown",
      "metadata": {
        "id": "0tAYDFDUz3MF",
        "colab_type": "text"
      },
      "source": [
        "### Import Libraries\n"
      ]
    },
    {
      "cell_type": "code",
      "metadata": {
        "id": "ElxUWo2-z2xN",
        "colab_type": "code",
        "colab": {}
      },
      "source": [
        "# Imports and global options\n",
        "\n",
        "import pandas as pd\n",
        "from matplotlib import pyplot as plt\n",
        "import zipfile\n",
        "import os\n",
        "from google.colab import drive\n",
        "\n",
        "import plotly.express as px \n",
        "\n",
        "# display numbers with two decimal places\n",
        "pd.options.display.float_format = '{:,.2f}'.format\n",
        "\n",
        "# mount google drive\n",
        "drive.mount('/content/gdrive/') \n",
        "# check !ls \"/content/gdrive/My Drive/Colab Notebooks/min_wage\""
      ],
      "execution_count": null,
      "outputs": []
    },
    {
      "cell_type": "markdown",
      "metadata": {
        "id": "NEI3adNd0lP_",
        "colab_type": "text"
      },
      "source": [
        "### Import Data\n",
        "\n",
        "Data provenance: \n",
        "* Cleaned Min Wage Data [here](https://www.numbeo.com/property-investment/rankings_by_country.jsp?title=2020&displayColumn=6)\n",
        "* Further wrangling performed by DJW [here](https://danieljwilson.com/datasets/)\n",
        "* Includes addition by [DJW](https://danieljwilson.com) of Living Wage data [here](https://livingwage.mit.edu/)\n",
        "* Election data from [MIT Election Lab](https://electionlab.mit.edu/data)"
      ]
    },
    {
      "cell_type": "code",
      "metadata": {
        "id": "RsMJlvIO0oZM",
        "colab_type": "code",
        "colab": {}
      },
      "source": [
        "# import min wage data \n",
        "df_min=pd.read_csv(\"https://danieljwilson.com/datasets/min_wage/min_wage_usa_2020.csv\", encoding= 'ISO-8859-1')\n",
        "\n",
        "# import state codes\n",
        "df_codes=pd.read_csv(\"https://danieljwilson.com/datasets/min_wage/USPS_two_letter_state.csv\", encoding= 'unicode_escape')\n",
        "\n",
        "# import election data\n",
        "df_pol = pd.read_csv('/content/gdrive/My Drive/Colab Notebooks/min_wage/1976-2016-president.csv')"
      ],
      "execution_count": null,
      "outputs": []
    },
    {
      "cell_type": "code",
      "metadata": {
        "id": "k69a_1dK0rA-",
        "colab_type": "code",
        "colab": {}
      },
      "source": [
        "df_min.info()"
      ],
      "execution_count": null,
      "outputs": []
    },
    {
      "cell_type": "code",
      "metadata": {
        "id": "2LX5d1JF4Z0Q",
        "colab_type": "code",
        "colab": {}
      },
      "source": [
        "df_codes.info()"
      ],
      "execution_count": null,
      "outputs": []
    },
    {
      "cell_type": "markdown",
      "metadata": {
        "id": "RIcDtC_Y0WQB",
        "colab_type": "text"
      },
      "source": [
        "### Clean/Tidy Data"
      ]
    },
    {
      "cell_type": "code",
      "metadata": {
        "id": "NfoUppiUhdDV",
        "colab_type": "code",
        "colab": {
          "base_uri": "https://localhost:8080/",
          "height": 204
        },
        "outputId": "e8984169-e9de-4fe8-810d-8d2ced2cc9e6"
      },
      "source": [
        "# Using USPS state codes because Plotly will automatically associate these specific abbreviations with location on the map\n",
        "df_min = pd.merge(df_min,  df_codes, on='State',how='left') \n",
        "df_min.tail()"
      ],
      "execution_count": null,
      "outputs": [
        {
          "output_type": "execute_result",
          "data": {
            "text/html": [
              "<div>\n",
              "<style scoped>\n",
              "    .dataframe tbody tr th:only-of-type {\n",
              "        vertical-align: middle;\n",
              "    }\n",
              "\n",
              "    .dataframe tbody tr th {\n",
              "        vertical-align: top;\n",
              "    }\n",
              "\n",
              "    .dataframe thead th {\n",
              "        text-align: right;\n",
              "    }\n",
              "</style>\n",
              "<table border=\"1\" class=\"dataframe\">\n",
              "  <thead>\n",
              "    <tr style=\"text-align: right;\">\n",
              "      <th></th>\n",
              "      <th>State</th>\n",
              "      <th>Wage</th>\n",
              "      <th>lw_10</th>\n",
              "      <th>lw_22</th>\n",
              "      <th>Abbreviation</th>\n",
              "    </tr>\n",
              "  </thead>\n",
              "  <tbody>\n",
              "    <tr>\n",
              "      <th>46</th>\n",
              "      <td>Virginia</td>\n",
              "      <td>7.25</td>\n",
              "      <td>14.00</td>\n",
              "      <td>17.62</td>\n",
              "      <td>VA</td>\n",
              "    </tr>\n",
              "    <tr>\n",
              "      <th>47</th>\n",
              "      <td>Washington</td>\n",
              "      <td>13.50</td>\n",
              "      <td>13.47</td>\n",
              "      <td>17.45</td>\n",
              "      <td>WA</td>\n",
              "    </tr>\n",
              "    <tr>\n",
              "      <th>48</th>\n",
              "      <td>West Virginia</td>\n",
              "      <td>8.75</td>\n",
              "      <td>10.83</td>\n",
              "      <td>14.76</td>\n",
              "      <td>WV</td>\n",
              "    </tr>\n",
              "    <tr>\n",
              "      <th>49</th>\n",
              "      <td>Wisconsin</td>\n",
              "      <td>7.25</td>\n",
              "      <td>11.40</td>\n",
              "      <td>16.49</td>\n",
              "      <td>WI</td>\n",
              "    </tr>\n",
              "    <tr>\n",
              "      <th>50</th>\n",
              "      <td>Wyoming</td>\n",
              "      <td>7.25</td>\n",
              "      <td>11.05</td>\n",
              "      <td>16.54</td>\n",
              "      <td>WY</td>\n",
              "    </tr>\n",
              "  </tbody>\n",
              "</table>\n",
              "</div>"
            ],
            "text/plain": [
              "            State  Wage  lw_10  lw_22 Abbreviation\n",
              "46       Virginia  7.25  14.00  17.62           VA\n",
              "47     Washington 13.50  13.47  17.45           WA\n",
              "48  West Virginia  8.75  10.83  14.76           WV\n",
              "49      Wisconsin  7.25  11.40  16.49           WI\n",
              "50        Wyoming  7.25  11.05  16.54           WY"
            ]
          },
          "metadata": {
            "tags": []
          },
          "execution_count": 31
        }
      ]
    },
    {
      "cell_type": "markdown",
      "metadata": {
        "id": "KUTyzOrbzPfK",
        "colab_type": "text"
      },
      "source": [
        "## Exploration 1: 2020 minimum wage by state\n"
      ]
    },
    {
      "cell_type": "markdown",
      "metadata": {
        "id": "oJs3HTaa9q8Y",
        "colab_type": "text"
      },
      "source": [
        "### Map of minimum wage"
      ]
    },
    {
      "cell_type": "code",
      "metadata": {
        "id": "Ec2uHE47HA7a",
        "colab_type": "code",
        "colab": {}
      },
      "source": [
        "fig = px.choropleth(df_min,   \n",
        "                    locations=\"Abbreviation\",  # DataFrame column with locations\n",
        "                    color=\"Wage\",  # DataFrame column with color values\n",
        "                    hover_name=\"State\", # DataFrame column hover info\n",
        "                    locationmode = 'USA-states', # Set to plot as US States\n",
        "                    color_continuous_scale= px.colors.sequential.RdBu) # Colour palette\n",
        "fig.update_layout(\n",
        "    title_text = 'Minimum Wage by State, 2020', # Create a Title\n",
        "    geo_scope='usa',  # Plot only the USA instead of globe\n",
        ")\n",
        "fig.show()  # Output the plot to the screen"
      ],
      "execution_count": null,
      "outputs": []
    },
    {
      "cell_type": "markdown",
      "metadata": {
        "id": "gRI1sF7DzYKu",
        "colab_type": "text"
      },
      "source": [
        "### Overlay relative minimum wage with other stats: \n",
        "* proportion of living wage\n",
        "* state political party \n",
        "* state average age\n",
        "* Walmarts per capita..."
      ]
    },
    {
      "cell_type": "markdown",
      "metadata": {
        "id": "cjozZNxPOSWP",
        "colab_type": "text"
      },
      "source": [
        "#### proportion of living wage"
      ]
    },
    {
      "cell_type": "code",
      "metadata": {
        "id": "1WjmfYMy0RLP",
        "colab_type": "code",
        "colab": {
          "base_uri": "https://localhost:8080/",
          "height": 232
        },
        "outputId": "34db0272-7943-4521-8c2d-344dfc25f06e"
      },
      "source": [
        "# Add column that is minimum wage/living wage\n",
        "min_df['lw_10_prop'] = (min_df.Wage/min_df.lw_10).round(2)\n",
        "df_min['prop_lw10'] = (df_min.Wage/df_min.lw_10).round(2)\n",
        "\n",
        "fig = px.choropleth(df_min,   \n",
        "                    locations=\"Abbreviation\",  # DataFrame column with locations\n",
        "                    color=\"prop_lw10\",  # DataFrame column with color values\n",
        "                    hover_name=\"State\", # DataFrame column hover info\n",
        "                    locationmode = 'USA-states', # Set to plot as US States\n",
        "                    color_continuous_scale= px.colors.sequential.gray) # Colour palette\n",
        "fig.update_layout(\n",
        "    title_text = 'Proportion Minimum Wage:Living Wage by State, 2020', # Create a Title\n",
        "    geo_scope='usa',  # Plot only the USA instead of globe\n",
        ")\n",
        "fig.show()  # Output the plot to the screen"
      ],
      "execution_count": null,
      "outputs": [
        {
          "output_type": "error",
          "ename": "NameError",
          "evalue": "ignored",
          "traceback": [
            "\u001b[0;31m---------------------------------------------------------------------------\u001b[0m",
            "\u001b[0;31mNameError\u001b[0m                                 Traceback (most recent call last)",
            "\u001b[0;32m<ipython-input-5-14f2d1d88ab4>\u001b[0m in \u001b[0;36m<module>\u001b[0;34m()\u001b[0m\n\u001b[1;32m      1\u001b[0m \u001b[0;31m# Add column that is minimum wage/living wage\u001b[0m\u001b[0;34m\u001b[0m\u001b[0;34m\u001b[0m\u001b[0;34m\u001b[0m\u001b[0m\n\u001b[0;32m----> 2\u001b[0;31m \u001b[0mmin_df\u001b[0m\u001b[0;34m[\u001b[0m\u001b[0;34m'lw_10_prop'\u001b[0m\u001b[0;34m]\u001b[0m \u001b[0;34m=\u001b[0m \u001b[0;34m(\u001b[0m\u001b[0mmin_df\u001b[0m\u001b[0;34m.\u001b[0m\u001b[0mWage\u001b[0m\u001b[0;34m/\u001b[0m\u001b[0mmin_df\u001b[0m\u001b[0;34m.\u001b[0m\u001b[0mlw_10\u001b[0m\u001b[0;34m)\u001b[0m\u001b[0;34m.\u001b[0m\u001b[0mround\u001b[0m\u001b[0;34m(\u001b[0m\u001b[0;36m2\u001b[0m\u001b[0;34m)\u001b[0m\u001b[0;34m\u001b[0m\u001b[0;34m\u001b[0m\u001b[0m\n\u001b[0m\u001b[1;32m      3\u001b[0m \u001b[0mdf_min\u001b[0m\u001b[0;34m[\u001b[0m\u001b[0;34m'prop_lw10'\u001b[0m\u001b[0;34m]\u001b[0m \u001b[0;34m=\u001b[0m \u001b[0;34m(\u001b[0m\u001b[0mdf_min\u001b[0m\u001b[0;34m.\u001b[0m\u001b[0mWage\u001b[0m\u001b[0;34m/\u001b[0m\u001b[0mdf_min\u001b[0m\u001b[0;34m.\u001b[0m\u001b[0mlw_10\u001b[0m\u001b[0;34m)\u001b[0m\u001b[0;34m.\u001b[0m\u001b[0mround\u001b[0m\u001b[0;34m(\u001b[0m\u001b[0;36m2\u001b[0m\u001b[0;34m)\u001b[0m\u001b[0;34m\u001b[0m\u001b[0;34m\u001b[0m\u001b[0m\n\u001b[1;32m      4\u001b[0m \u001b[0;34m\u001b[0m\u001b[0m\n\u001b[1;32m      5\u001b[0m fig = px.choropleth(df_min,   \n",
            "\u001b[0;31mNameError\u001b[0m: name 'min_df' is not defined"
          ]
        }
      ]
    },
    {
      "cell_type": "markdown",
      "metadata": {
        "id": "Zg_pyQO6OUFF",
        "colab_type": "text"
      },
      "source": [
        "#### political party"
      ]
    },
    {
      "cell_type": "code",
      "metadata": {
        "id": "fjwmpglYMthH",
        "colab_type": "code",
        "colab": {
          "base_uri": "https://localhost:8080/",
          "height": 391
        },
        "outputId": "2974bf99-e5e7-44dc-ce98-981b5268406e"
      },
      "source": [
        "df_pol = pd.read_csv('/content/gdrive/My Drive/Colab Notebooks/min_wage/1976-2016-president.csv')\n",
        "df_pol = df_pol[['year','state','state_po','party' ]]\n",
        "df_pol.info()\n",
        "df_pol = df_pol.groupby(['year','state_po']).size().reset_index()\n",
        "df_pol.head()"
      ],
      "execution_count": null,
      "outputs": [
        {
          "output_type": "stream",
          "text": [
            "<class 'pandas.core.frame.DataFrame'>\n",
            "RangeIndex: 3740 entries, 0 to 3739\n",
            "Data columns (total 4 columns):\n",
            " #   Column    Non-Null Count  Dtype \n",
            "---  ------    --------------  ----- \n",
            " 0   year      3740 non-null   int64 \n",
            " 1   state     3740 non-null   object\n",
            " 2   state_po  3740 non-null   object\n",
            " 3   party     3404 non-null   object\n",
            "dtypes: int64(1), object(3)\n",
            "memory usage: 117.0+ KB\n"
          ],
          "name": "stdout"
        },
        {
          "output_type": "execute_result",
          "data": {
            "text/html": [
              "<div>\n",
              "<style scoped>\n",
              "    .dataframe tbody tr th:only-of-type {\n",
              "        vertical-align: middle;\n",
              "    }\n",
              "\n",
              "    .dataframe tbody tr th {\n",
              "        vertical-align: top;\n",
              "    }\n",
              "\n",
              "    .dataframe thead th {\n",
              "        text-align: right;\n",
              "    }\n",
              "</style>\n",
              "<table border=\"1\" class=\"dataframe\">\n",
              "  <thead>\n",
              "    <tr style=\"text-align: right;\">\n",
              "      <th></th>\n",
              "      <th>year</th>\n",
              "      <th>state_po</th>\n",
              "      <th>0</th>\n",
              "    </tr>\n",
              "  </thead>\n",
              "  <tbody>\n",
              "    <tr>\n",
              "      <th>0</th>\n",
              "      <td>1976</td>\n",
              "      <td>AK</td>\n",
              "      <td>4</td>\n",
              "    </tr>\n",
              "    <tr>\n",
              "      <th>1</th>\n",
              "      <td>1976</td>\n",
              "      <td>AL</td>\n",
              "      <td>7</td>\n",
              "    </tr>\n",
              "    <tr>\n",
              "      <th>2</th>\n",
              "      <td>1976</td>\n",
              "      <td>AR</td>\n",
              "      <td>4</td>\n",
              "    </tr>\n",
              "    <tr>\n",
              "      <th>3</th>\n",
              "      <td>1976</td>\n",
              "      <td>AZ</td>\n",
              "      <td>8</td>\n",
              "    </tr>\n",
              "    <tr>\n",
              "      <th>4</th>\n",
              "      <td>1976</td>\n",
              "      <td>CA</td>\n",
              "      <td>7</td>\n",
              "    </tr>\n",
              "  </tbody>\n",
              "</table>\n",
              "</div>"
            ],
            "text/plain": [
              "   year state_po  0\n",
              "0  1976       AK  4\n",
              "1  1976       AL  7\n",
              "2  1976       AR  4\n",
              "3  1976       AZ  8\n",
              "4  1976       CA  7"
            ]
          },
          "metadata": {
            "tags": []
          },
          "execution_count": 37
        }
      ]
    },
    {
      "cell_type": "markdown",
      "metadata": {
        "id": "qx9J0bNpOX_b",
        "colab_type": "text"
      },
      "source": [
        "#### Average Age"
      ]
    },
    {
      "cell_type": "code",
      "metadata": {
        "id": "W3gQcXIxOb1l",
        "colab_type": "code",
        "colab": {}
      },
      "source": [
        ""
      ],
      "execution_count": null,
      "outputs": []
    },
    {
      "cell_type": "markdown",
      "metadata": {
        "id": "MyCOhxa3Odak",
        "colab_type": "text"
      },
      "source": [
        "#### Walmarts per capita"
      ]
    },
    {
      "cell_type": "code",
      "metadata": {
        "id": "plDumQr1Ocnu",
        "colab_type": "code",
        "colab": {}
      },
      "source": [
        ""
      ],
      "execution_count": null,
      "outputs": []
    },
    {
      "cell_type": "markdown",
      "metadata": {
        "id": "lB0Ta6zg6sYC",
        "colab_type": "text"
      },
      "source": [
        "## Exploration 1: 2020 minimum wage by city\n"
      ]
    },
    {
      "cell_type": "code",
      "metadata": {
        "id": "1FYSDwZQ63qd",
        "colab_type": "code",
        "colab": {
          "base_uri": "https://localhost:8080/",
          "height": 368
        },
        "outputId": "42456b39-678b-4908-a07e-50306acb47ef"
      },
      "source": [
        " # libraries\n",
        "import Basemap\n",
        "import numpy as np\n",
        "import matplotlib.pyplot as plt\n",
        " \n",
        "# Make a data frame with the GPS of a few cities:\n",
        "data = pd.DataFrame({\n",
        "'lat':[-58, 2, 145, 30.32, -4.03, -73.57, 36.82, -38.5],\n",
        "'lon':[-34, 49, -38, 59.93, 5.33, 45.52, -1.29, -12.97],\n",
        "'name':['Buenos Aires', 'Paris', 'melbourne', 'St Petersbourg', 'Abidjan', 'Montreal', 'Nairobi', 'Salvador']\n",
        "})\n",
        " \n",
        "# A basic map\n",
        "m=Basemap(llcrnrlon=-160, llcrnrlat=-75,urcrnrlon=160,urcrnrlat=80)\n",
        "m.drawmapboundary(fill_color='#A6CAE0', linewidth=0)\n",
        "m.fillcontinents(color='grey', alpha=0.7, lake_color='grey')\n",
        "m.drawcoastlines(linewidth=0.1, color=\"white\")\n",
        " \n",
        "# Add a marker per city of the data frame!\n",
        "m.plot(data['lat'], data['lon'], linestyle='none', marker=\"o\", markersize=16, alpha=0.6, c=\"orange\", markeredgecolor=\"black\", markeredgewidth=1)\n",
        "\n",
        " "
      ],
      "execution_count": null,
      "outputs": [
        {
          "output_type": "error",
          "ename": "ModuleNotFoundError",
          "evalue": "ignored",
          "traceback": [
            "\u001b[0;31m---------------------------------------------------------------------------\u001b[0m",
            "\u001b[0;31mModuleNotFoundError\u001b[0m                       Traceback (most recent call last)",
            "\u001b[0;32m<ipython-input-9-041930b6c875>\u001b[0m in \u001b[0;36m<module>\u001b[0;34m()\u001b[0m\n\u001b[1;32m      1\u001b[0m \u001b[0;31m# libraries\u001b[0m\u001b[0;34m\u001b[0m\u001b[0;34m\u001b[0m\u001b[0;34m\u001b[0m\u001b[0m\n\u001b[0;32m----> 2\u001b[0;31m \u001b[0;32mimport\u001b[0m \u001b[0mBasemap\u001b[0m\u001b[0;34m\u001b[0m\u001b[0;34m\u001b[0m\u001b[0m\n\u001b[0m\u001b[1;32m      3\u001b[0m \u001b[0;32mimport\u001b[0m \u001b[0mnumpy\u001b[0m \u001b[0;32mas\u001b[0m \u001b[0mnp\u001b[0m\u001b[0;34m\u001b[0m\u001b[0;34m\u001b[0m\u001b[0m\n\u001b[1;32m      4\u001b[0m \u001b[0;32mimport\u001b[0m \u001b[0mmatplotlib\u001b[0m\u001b[0;34m.\u001b[0m\u001b[0mpyplot\u001b[0m \u001b[0;32mas\u001b[0m \u001b[0mplt\u001b[0m\u001b[0;34m\u001b[0m\u001b[0;34m\u001b[0m\u001b[0m\n\u001b[1;32m      5\u001b[0m \u001b[0;34m\u001b[0m\u001b[0m\n",
            "\u001b[0;31mModuleNotFoundError\u001b[0m: No module named 'Basemap'",
            "",
            "\u001b[0;31m---------------------------------------------------------------------------\u001b[0;32m\nNOTE: If your import is failing due to a missing package, you can\nmanually install dependencies using either !pip or !apt.\n\nTo view examples of installing some common dependencies, click the\n\"Open Examples\" button below.\n\u001b[0;31m---------------------------------------------------------------------------\u001b[0m\n"
          ]
        }
      ]
    },
    {
      "cell_type": "code",
      "metadata": {
        "id": "2bXy1Yy367Gu",
        "colab_type": "code",
        "colab": {}
      },
      "source": [
        "fig = px.choropleth(df_min,   \n",
        "                    locations=\"Abbreviation\",  # DataFrame column with locations\n",
        "                    color=\"Wage\",  # DataFrame column with color values\n",
        "                    hover_name=\"State\", # DataFrame column hover info\n",
        "                    locationmode = 'USA-states', # Set to plot as US States\n",
        "                    color_continuous_scale= px.colors.sequential.RdBu) # Colour palette\n",
        "fig.update_layout(\n",
        "    title_text = 'Minimum Wage by State, 2020', # Create a Title\n",
        "    geo_scope='usa',  # Plot only the USA instead of globe\n",
        ")\n",
        "fig.show()  # Output the plot to the screen"
      ],
      "execution_count": null,
      "outputs": []
    }
  ]
}