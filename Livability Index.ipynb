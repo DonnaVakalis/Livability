{
 "cells": [
  {
   "cell_type": "markdown",
   "metadata": {
    "colab_type": "text",
    "id": "u3NUqsPaVgxV",
    "slideshow": {
     "slide_type": "-"
    }
   },
   "source": [
    "# Project: Personal Livability Index\n",
    "\n",
    "### Shortcuts:\n",
    "<ul>\n",
    "<li><a href=\"#intro\">Rationale, Project Goals and Deliverables </a></li>\n",
    "<li><a href=\"data\">Data Provenance</a></li>\n",
    "<li><a href=\"#ega\">Initial Data Exploration</a></li>\n",
    "<li><a href=\"#next\">Next Steps, Challenges, Summary</a></li>\n",
    "</ul>"
   ]
  },
  {
   "cell_type": "markdown",
   "metadata": {
    "colab_type": "text",
    "id": "g3QuGTIGVgxW"
   },
   "source": [
    "<a id='intro'></a>\n",
    "## Rationale, Project Goals and Deliverables\n",
    "\n",
    "### Rationale\n",
    "\n",
    "The portion of employees able to work remotely is increasing, resulting in decoupling a company’s geographic location from worker’s choice of where to live. This opens up the possibility to choose where to live based on other metrics, such as local air quality, affordability, proximity to family, ‘good’ weather. \n",
    "\n",
    "Existing livability indices (e.g., https://en.wikipedia.org/wiki/Global_Liveability_Ranking) are useful yet limited. They are often based on annual data, rarely detailed at the global level, and most importantly they are not customizable. \n",
    "\n",
    "### Project Goals and Deliverables\n",
    "\n",
    "The goal of this project is to build the first personalized livability web dashboard, one that lets the user weigh weather, transportation access, population density, air quality and a few other metrics.  This project will aggregate conventional livability metrics with personal preference inputs, such as weather preference and proximity to other cities (e.g., friends and family).  \n",
    "\n",
    "When complete, some examples of questions answered by this project are:\n",
    "\n",
    "> Given a preference for living by a body of water and in a country with high environmental and social governance scores, what is the most affordable city?\n",
    "\n",
    "> I want to live as close as possible to my friends in Paris but I want to live in a warm climate where English is one of the official languages. Which cities satisfy my criteria?\n",
    "\n",
    "Via the online dashboard, a user selects metrics of interst, assigns weights, and the results are generated as: 1) visualization of results as bar charts, 2) composite score and 3) ranked list of suitable places. A mock-up of the dashboard interface can be seen [here:](link to mock up in repo)    \n",
    "\n",
    "\n",
    "<a id='data'></a>\n",
    "## Data Provenance\n",
    "\n",
    "* Public Datasets Used:\n",
    "\n",
    "    * [World bank Environment,Social And Governance Data Catalogue ](https://datacatalog.worldbank.org/dataset/environment-social-and-governance-data)\n",
    "    * [NOA GLobal] (ftp://ftp.ncdc.noaa.gov/pub/data/ghcn/v4) Historical Climatology v4 data \n",
    "    * [World Health Organization] (https://apps.who.int/gho/data/node.home) datasets for ambient air pollution, road safety and health coverage\n",
    "    * [IMF Global Housing Data](https://www.imf.org/external/research/housing/)\n",
    "\n",
    "\n",
    "* Expanded Project Datasets (for inclusion later on):\n",
    "\n",
    "    * The Economist [EIU’s liveability ratings](http://www.eiu.com/Handlers/WhitepaperHandler.ashx?fi=The_Global_Liveability_index_2018.pdf&mode=wp&campaignid=Liveability2018 \"EUI page\") for 140 cities around the world. Note this dataset requires a paid subscription\n",
    "    * The [USA Livability website](https://livability.com/find-city)\n"
   ]
  },
  {
   "cell_type": "markdown",
   "metadata": {
    "colab_type": "text",
    "id": "z-jSrFTVVgxl"
   },
   "source": [
    "<a id='ega'></a>\n",
    "## Initial Data Explorations\n",
    "\n",
    "The following plots demonstrate the availability of relevant data to support this project.  "
   ]
  },
  {
   "cell_type": "code",
   "execution_count": null,
   "metadata": {
    "colab": {},
    "colab_type": "code",
    "id": "6laCaSsyVgxm"
   },
   "outputs": [],
   "source": [
    "# Imports and magic words >>\n",
    "\n",
    "import pandas as pd\n",
    "import matplotlib.pyplot as plt\n",
    "import os\n",
    "from datetime import datetime  \n",
    "import re \n",
    "import xmltodict\n",
    "import requests\n",
    "from urllib.request import urlopen \n",
    "from bs4 import BeautifulSoup\n",
    " \n",
    "%matplotlib inline\n"
   ]
  },
  {
   "cell_type": "code",
   "execution_count": null,
   "metadata": {},
   "outputs": [],
   "source": [
    "# Make directory >>\n",
    "\n",
    "folder_name = 'livability_raw_files'\n",
    "if not os.path.exists(folder_name):\n",
    "    os.makedirs(folder_name)\n",
    "    \n",
    "\n",
    "# Download data files >>\n",
    "\n",
    "def get_xml(url): # for world bank data \n",
    "    \n",
    "    file = urlopen(url)\n",
    "    data = file.read()\n",
    "    file.close()\n",
    "    data = xmltodict.parse(data)\n",
    "    return(data)\n",
    "\n",
    "def get_table(url): # for WHO data\n",
    "\n",
    "    response = requests.get(url, timeout=10)\n",
    "    soup = BeautifulSoup(response.content, 'html.parser')\n",
    "\n",
    "    table = soup.find_all('table')[1]\n",
    "    rows = table.select('tbody > tr')\n",
    "    header = [th.text.rstrip() for th in rows[0].find_all('th')]\n",
    "    \n",
    "    scraped_contents = []   # empty list\n",
    "    for tr in rows:\n",
    "        row_cells = ([ tr.find('th').getText() ] if tr.find('th') else [] ) + [ td.getText().strip() for td in tr.find_all('td') if td.getText().strip() != '' ] \n",
    "        if len(row_cells) > 1 : \n",
    "            scraped_contents += [ row_cells ]\n",
    "        \n",
    "\n",
    "def get_wikitable(url): # for wikipedia tables\n",
    "    \n",
    "    response = requests.get(url).text\n",
    "    soup = BeautifulSoup(response,'lxml')\n",
    "    \n",
    "    scraped_contents = []  \n",
    "    for items in soup.find('table', class_='wikitable').find_all('tr')[1::1]:\n",
    "        data = items.find_all(['th','td'])\n",
    "        try:\n",
    "            country = data[0].a.text\n",
    "            language = data[1].a.text\n",
    "        except IndexError:pass\n",
    "        scraped_contents += [(country,language)]\n",
    "\n",
    "dat_esg = get_xml('http://api.worldbank.org/v2/source/75/indicators')\n",
    "dat_who = get_table('https://apps.who.int/gho/data/node.main.152?lang=en')\n",
    "dat_who = get_table('https://apps.who.int/gho/data/node.main.A997?lang=en')\n",
    "dat_lng = get_wikitable('https://en.wikipedia.org/wiki/List_of_official_languages_by_country_and_territory')\n",
    "dat_hsg = pd.read_csv(folder_name,'/HousePrices.csv')\n"
   ]
  },
  {
   "cell_type": "code",
   "execution_count": null,
   "metadata": {},
   "outputs": [],
   "source": [
    "..."
   ]
  },
  {
   "cell_type": "code",
   "execution_count": null,
   "metadata": {},
   "outputs": [],
   "source": []
  },
  {
   "cell_type": "code",
   "execution_count": 78,
   "metadata": {},
   "outputs": [],
   "source": [
    "# Subset of data for exploration\n",
    "\n",
    "pti = pd.read_csv('pricetoincome.csv') # IMF data 2019 price-to-income ratio\n",
    "pti.shape # (32,4)  # 32 countries\n",
    "pti.columns = ['country_abr', 'country','pi_ratio','quarter']  \n",
    "pti = pti[['country','pi_ratio']] # subset to country and pti ratio only\n",
    "\n",
    "pm = pd.read_csv('WHO_ambientPM.csv') # WHO data 2016 ambient particulate matter\n",
    "pm.shape # (194, 4) # 194 countries\n",
    "pm.columns = ['country','pm25_total','pm25_urban','pm25_rural']\n",
    "pm['pm25_total'] = pm['pm25_total'].astype(str).str.split(pat=None,n=1,expand=True)   # keep only mean not the range\n",
    "pm['pm25_total'] = pm['pm25_total'].astype(float)"
   ]
  },
  {
   "cell_type": "code",
   "execution_count": 86,
   "metadata": {},
   "outputs": [
    {
     "data": {
      "text/html": [
       "<div>\n",
       "<style scoped>\n",
       "    .dataframe tbody tr th:only-of-type {\n",
       "        vertical-align: middle;\n",
       "    }\n",
       "\n",
       "    .dataframe tbody tr th {\n",
       "        vertical-align: top;\n",
       "    }\n",
       "\n",
       "    .dataframe thead th {\n",
       "        text-align: right;\n",
       "    }\n",
       "</style>\n",
       "<table border=\"1\" class=\"dataframe\">\n",
       "  <thead>\n",
       "    <tr style=\"text-align: right;\">\n",
       "      <th></th>\n",
       "      <th>pi_ratio</th>\n",
       "      <th>pm25_total</th>\n",
       "    </tr>\n",
       "    <tr>\n",
       "      <th>country</th>\n",
       "      <th></th>\n",
       "      <th></th>\n",
       "    </tr>\n",
       "  </thead>\n",
       "  <tbody>\n",
       "    <tr>\n",
       "      <th>Portugal</th>\n",
       "      <td>124.514849</td>\n",
       "      <td>7.9</td>\n",
       "    </tr>\n",
       "    <tr>\n",
       "      <th>Luxembourg</th>\n",
       "      <td>122.273529</td>\n",
       "      <td>10.2</td>\n",
       "    </tr>\n",
       "    <tr>\n",
       "      <th>Hungary</th>\n",
       "      <td>120.981972</td>\n",
       "      <td>15.6</td>\n",
       "    </tr>\n",
       "    <tr>\n",
       "      <th>Netherlands</th>\n",
       "      <td>119.127623</td>\n",
       "      <td>12.1</td>\n",
       "    </tr>\n",
       "    <tr>\n",
       "      <th>Canada</th>\n",
       "      <td>118.457380</td>\n",
       "      <td>6.5</td>\n",
       "    </tr>\n",
       "  </tbody>\n",
       "</table>\n",
       "</div>"
      ],
      "text/plain": [
       "               pi_ratio  pm25_total\n",
       "country                            \n",
       "Portugal     124.514849         7.9\n",
       "Luxembourg   122.273529        10.2\n",
       "Hungary      120.981972        15.6\n",
       "Netherlands  119.127623        12.1\n",
       "Canada       118.457380         6.5"
      ]
     },
     "execution_count": 86,
     "metadata": {},
     "output_type": "execute_result"
    }
   ],
   "source": [
    "# Merge and filter data for visualization\n",
    "\n",
    "df = pd.merge(pti, pm, on='country') \n",
    "df = df.iloc[:,0:3]\n",
    "df = df.set_index('country')\n",
    "df.head()"
   ]
  },
  {
   "cell_type": "code",
   "execution_count": 88,
   "metadata": {},
   "outputs": [
    {
     "data": {
      "image/png": "[encoded data removed]",
      "text/plain": [
       "<Figure size 432x288 with 2 Axes>"
      ]
     },
     "metadata": {
      "needs_background": "light"
     },
     "output_type": "display_data"
    }
   ],
   "source": [
    "from matplotlib import cm\n",
    "\n",
    "fig, ax = plt.subplots()\n",
    "df.plot('pm25_total', 'pi_ratio', kind='scatter', ax=ax)\n",
    "\n",
    "for i, j in df.iterrows():\n",
    "    ax.annotate(i, j)\n",
    "\n",
    "cmap = cm.get_cmap('Spectral')\n",
    "df.plot('pm25_total', 'pi_ratio', kind='scatter', ax=ax, s=120, linewidth=0, \n",
    "        c=range(len(df)), colormap=cmap)\n",
    "\n",
    "for i, j in df.iterrows():\n",
    "    ax.annotate(i, j,\n",
    "                xytext=(10,-5), textcoords='offset points',\n",
    "                family='sans-serif', fontsize=18, color='darkslategrey')"
   ]
  },
  {
   "cell_type": "markdown",
   "metadata": {
    "colab_type": "text",
    "id": "LTuKcQGJVgxs"
   },
   "source": [
    "<a id='next'></a>\n",
    "## Next Steps, Challenges, Summary\n",
    "\n",
    "### Outline of  steps\n",
    "\n",
    "1. ~~Conceptualizing project and initial viability check.~~\n",
    "2. Scrape clean and tidy remaining needed data \n",
    "3. Use Plotly’s Dash for proof-of-concept dashboard\n",
    "\n",
    "A strength of this project is its scalability: the initial metrics are available by scraping and API downloads to immediately begin building a dashboard with a handful of metrics to start. Later on, or if time permits, it will be possible to layer on more features (such as incorporating multi-location living suggestions, as 6 months in two locations, to optimize for year-round weather!) Also, I'm sure I will get feedback that will open up new avenues to improve and explore...\n",
    "\n",
    "### Addressing Anticipated Challenges\n",
    "\n",
    "The main challenge of this project is the agglomeration of data from multiple sources. The datasets themselves are small; but they are vastly different - with different scopes and ways of documenting.  The exercise of bringing together the salient features, and aligning them to common keys (namely to locales), is the first challenge. \n",
    "\n",
    "As seen in the initial exploration of datasets, the scope of datasets differs. Thus some cities will have better 'coverage' of metrics. So far, the smallest dataset covers 32 countries, so there is still relatively good coverage. \n",
    "\n",
    "\n",
    "### In sum\n",
    "\n",
    "Useful insights can arise from bringing together data that doesn't often appear side-by-side. My hope is that by combining disparate sources, in dynamic customizeable ways, the emerging picture will help guide decision-making about where to live. \n",
    "\n",
    " \n",
    " "
   ]
  }
 ],
 "metadata": {
  "celltoolbar": "Slideshow",
  "colab": {
   "name": "LivabilityIndex.ipynb",
   "provenance": []
  },
  "kernelspec": {
   "display_name": "Python 3",
   "language": "python",
   "name": "python3"
  },
  "language_info": {
   "codemirror_mode": {
    "name": "ipython",
    "version": 3
   },
   "file_extension": ".py",
   "mimetype": "text/x-python",
   "name": "python",
   "nbconvert_exporter": "python",
   "pygments_lexer": "ipython3",
   "version": "3.7.6"
  }
 },
 "nbformat": 4,
 "nbformat_minor": 1
}
